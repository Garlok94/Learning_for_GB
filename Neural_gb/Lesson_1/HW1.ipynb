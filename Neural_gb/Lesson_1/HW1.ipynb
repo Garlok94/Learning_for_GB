{
 "cells": [
  {
   "cell_type": "code",
   "execution_count": 1,
   "id": "170b7429",
   "metadata": {},
   "outputs": [],
   "source": [
    "import numpy as np\n",
    "import pandas as pd\n",
    "import seaborn as sns\n",
    "import matplotlib.pyplot as plt\n",
    "\n",
    "import warnings\n",
    "warnings.filterwarnings('ignore')\n",
    "\n",
    "from sklearn.model_selection import train_test_split\n",
    "from sklearn.datasets import load_digits\n",
    "from sklearn.preprocessing import MinMaxScaler"
   ]
  },
  {
   "cell_type": "code",
   "execution_count": 2,
   "id": "0743c8c5",
   "metadata": {},
   "outputs": [
    {
     "name": "stdout",
     "output_type": "stream",
     "text": [
      "(1797, 64)\n"
     ]
    },
    {
     "data": {
      "image/png": "[encoded data removed]",
      "text/plain": [
       "<Figure size 1152x432 with 10 Axes>"
      ]
     },
     "metadata": {
      "needs_background": "light"
     },
     "output_type": "display_data"
    }
   ],
   "source": [
    "# Подготовка тренировочных данных\n",
    "X, y = load_digits(return_X_y=True)\n",
    "print(X.shape) # расскоментируйте, чтобы посмотреть размер данных\n",
    "\n",
    "# репрезентация данных\n",
    "plt.figure(figsize=(16, 6))\n",
    "for i in range(10):\n",
    "    plt.subplot(2, 5, i + 1)\n",
    "    plt.imshow(X[i,:].reshape([8, 8]))"
   ]
  },
  {
   "cell_type": "code",
   "execution_count": 3,
   "id": "20088c9c",
   "metadata": {},
   "outputs": [
    {
     "data": {
      "text/plain": [
       "array([0, 1, 2, ..., 8, 9, 8])"
      ]
     },
     "execution_count": 3,
     "metadata": {},
     "output_type": "execute_result"
    }
   ],
   "source": [
    "y"
   ]
  },
  {
   "cell_type": "code",
   "execution_count": 4,
   "id": "acc79bba",
   "metadata": {},
   "outputs": [],
   "source": [
    "def to_one_hot(Y):\n",
    "    n_col = np.max(Y) + 1\n",
    "    binarized = np.zeros((len(Y), n_col))\n",
    "    for i in range(len(Y)):\n",
    "        binarized[i, Y[i]] = 1\n",
    "    return binarized"
   ]
  },
  {
   "cell_type": "code",
   "execution_count": 5,
   "id": "1de2d0c4",
   "metadata": {},
   "outputs": [
    {
     "data": {
      "text/plain": [
       "array([[1., 0., 0., ..., 0., 0., 0.],\n",
       "       [0., 1., 0., ..., 0., 0., 0.],\n",
       "       [0., 0., 1., ..., 0., 0., 0.],\n",
       "       ...,\n",
       "       [0., 0., 0., ..., 0., 1., 0.],\n",
       "       [0., 0., 0., ..., 0., 0., 1.],\n",
       "       [0., 0., 0., ..., 0., 1., 0.]])"
      ]
     },
     "metadata": {},
     "output_type": "display_data"
    },
    {
     "data": {
      "text/plain": [
       "(1797, 10)"
      ]
     },
     "metadata": {},
     "output_type": "display_data"
    }
   ],
   "source": [
    "# формирование входных данных\n",
    "scaler = MinMaxScaler()\n",
    "X = scaler.fit_transform(X)\n",
    "\n",
    "# формирование выходных данных(результатов)\n",
    "y = y.flatten()\n",
    "y = to_one_hot(y)\n",
    "display(y, y.shape)"
   ]
  },
  {
   "cell_type": "code",
   "execution_count": 6,
   "id": "52e91ef3",
   "metadata": {},
   "outputs": [],
   "source": [
    "# Разделение данных на тренировочные и тестовые\n",
    "X_train, X_test, y_train, y_test = train_test_split(X, y, test_size=0.33, random_state=1)"
   ]
  },
  {
   "cell_type": "code",
   "execution_count": 7,
   "id": "7a1a3680",
   "metadata": {},
   "outputs": [],
   "source": [
    "# вычисление сигмоид функции\n",
    "def sigmoid(x):\n",
    "    return 1 / (1 + np.exp(-x))\n",
    "\n",
    "# вычисление производной от сигмоид функции\n",
    "def sigmoid_deriv(x):\n",
    "    return sigmoid(x) * (1 - sigmoid(x))"
   ]
  },
  {
   "cell_type": "code",
   "execution_count": 8,
   "id": "4b5cf599",
   "metadata": {},
   "outputs": [],
   "source": [
    "# Обучение нейронной сети\n",
    "\n",
    "# определим число нейронов скрытого слоя\n",
    "neuron_numb = 5\n",
    "\n",
    "# присваивание случайных весов\n",
    "np.random.seed(1)\n",
    "w0 = np.random.random((64, neuron_numb))  # для входного слоя    - 64 входа, neuron_numb выходов\n",
    "w1 = np.random.random((neuron_numb, 10))  # для внутреннего слоя - neuron_numb входов, 10 выходов\n",
    "\n",
    "# скорость обучения (learning rate)\n",
    "learning_rate = 0.1\n",
    "\n",
    "# количество итераций\n",
    "num_epochs = 100\n",
    "\n",
    "# массив для ошибок, чтобы потом построить график\n",
    "errors = []\n",
    "metrics = []\n",
    "\n",
    "# процесс обучения\n",
    "for i in range(num_epochs):\n",
    "\n",
    "    # прямое распространение(feed forward)\n",
    "    layer0 = X_train\n",
    "    layer1 = sigmoid(np.dot(layer0, w0))\n",
    "    layer2 = sigmoid(np.dot(layer1, w1))\n",
    "\n",
    "    # обратное распространение (back propagation)\n",
    "    #  с использованием градиентного спуска\n",
    "    layer2_error = layer2 - y_train  # производная функции потерь\n",
    "    layer2_grad = layer2_error * sigmoid_deriv(layer2)\n",
    "    \n",
    "    layer1_error = layer2_grad.dot(w1.T)\n",
    "    layer1_grad = layer1_error * sigmoid_deriv(layer1)\n",
    "    \n",
    "    w1 -= layer1.T.dot(layer2_grad) * learning_rate\n",
    "    w0 -= layer0.T.dot(layer1_grad) * learning_rate\n",
    "    \n",
    "    # ошибка модели\n",
    "    error = np.mean(np.abs(layer2_error))\n",
    "    errors.append(error)\n",
    "    \n",
    "    # метрики качества\n",
    "    preds = np.argmax(layer2, axis=1)\n",
    "    labels = np.argmax(y_train, axis=1)\n",
    "    accuracy = (preds == labels).sum() * 100 / len(labels)\n",
    "    metrics.append(accuracy)"
   ]
  },
  {
   "cell_type": "code",
   "execution_count": 9,
   "id": "d409b078",
   "metadata": {},
   "outputs": [
    {
     "data": {
      "text/plain": [
       "array([[0., 1., 0., 0., 0., 0., 0., 0., 0., 0.],\n",
       "       [0., 0., 0., 0., 0., 0., 0., 0., 0., 1.],\n",
       "       [1., 0., 0., 0., 0., 0., 0., 0., 0., 0.],\n",
       "       [0., 0., 0., 0., 0., 0., 0., 1., 0., 0.],\n",
       "       [0., 0., 0., 1., 0., 0., 0., 0., 0., 0.],\n",
       "       [0., 0., 0., 0., 1., 0., 0., 0., 0., 0.],\n",
       "       [0., 0., 0., 0., 0., 0., 0., 0., 0., 1.],\n",
       "       [0., 1., 0., 0., 0., 0., 0., 0., 0., 0.],\n",
       "       [0., 0., 0., 0., 0., 1., 0., 0., 0., 0.],\n",
       "       [0., 0., 0., 0., 1., 0., 0., 0., 0., 0.]])"
      ]
     },
     "execution_count": 9,
     "metadata": {},
     "output_type": "execute_result"
    }
   ],
   "source": [
    "y_train[:10]"
   ]
  },
  {
   "cell_type": "code",
   "execution_count": 10,
   "id": "f19077ae",
   "metadata": {},
   "outputs": [],
   "source": [
    "# Обучение нейронной сети\n",
    "\n",
    "# определим число нейронов скрытого слоя\n",
    "#neuron_numb = 5\n",
    "df = pd.DataFrame(columns=['parametr name', 'value', 'train', 'test'])\n",
    "p = 0\n",
    "\n",
    "for neuron_numb in range(2, 101):\n",
    "    \n",
    "\n",
    "    # присваивание случайных весов\n",
    "    np.random.seed(1)\n",
    "    w0 = np.random.random((64, neuron_numb))  # для входного слоя    - 64 входа, neuron_numb выходов\n",
    "    w1 = np.random.random((neuron_numb, 10))  # для внутреннего слоя - neuron_numb входов, 10 выходов\n",
    "\n",
    "    # скорость обучения (learning rate)\n",
    "    learning_rate = 0.1\n",
    "\n",
    "    # количество итераций\n",
    "    num_epochs = 100\n",
    "\n",
    "    # массив для ошибок, чтобы потом построить график\n",
    "    errors = []\n",
    "    metrics = []\n",
    "\n",
    "\n",
    "    # процесс обучения\n",
    "    for i in range(num_epochs):\n",
    "\n",
    "        # прямое распространение(feed forward)\n",
    "        layer0 = X_train\n",
    "        layer1 = sigmoid(np.dot(layer0, w0))\n",
    "        layer2 = sigmoid(np.dot(layer1, w1))\n",
    "\n",
    "        # обратное распространение (back propagation)\n",
    "        #  с использованием градиентного спуска\n",
    "        layer2_error = layer2 - y_train  # производная функции потерь\n",
    "        layer2_grad = layer2_error * sigmoid_deriv(layer2)\n",
    "\n",
    "        layer1_error = layer2_grad.dot(w1.T)\n",
    "        layer1_grad = layer1_error * sigmoid_deriv(layer1)\n",
    "\n",
    "        w1 -= layer1.T.dot(layer2_grad) * learning_rate\n",
    "        w0 -= layer0.T.dot(layer1_grad) * learning_rate\n",
    "\n",
    "        # метрики качества\n",
    "        preds = np.argmax(layer2, axis=1)\n",
    "        labels = np.argmax(y_train, axis=1)\n",
    "        accuracy = (preds == labels).sum() * 100 / len(labels)\n",
    "    \n",
    "    # прямое распространение(feed forward)\n",
    "    layer0_test = X_test\n",
    "    layer1_test = sigmoid(np.dot(layer0_test, w0))\n",
    "    layer2_test = sigmoid(np.dot(layer1_test, w1))\n",
    "\n",
    "    # метрика модели\n",
    "    preds_test = np.argmax(layer2_test, axis=1)\n",
    "    labels_test = np.argmax(y_test, axis=1)\n",
    "    accuracy_test = (preds_test == labels_test).sum() * 100 / len(labels_test)\n",
    "    \n",
    "    df.loc[p] = ['neuron_numb', neuron_numb, accuracy, accuracy_test]\n",
    "    p += 1"
   ]
  },
  {
   "cell_type": "code",
   "execution_count": 11,
   "id": "c628e633",
   "metadata": {},
   "outputs": [
    {
     "data": {
      "text/html": [
       "<div>\n",
       "<style scoped>\n",
       "    .dataframe tbody tr th:only-of-type {\n",
       "        vertical-align: middle;\n",
       "    }\n",
       "\n",
       "    .dataframe tbody tr th {\n",
       "        vertical-align: top;\n",
       "    }\n",
       "\n",
       "    .dataframe thead th {\n",
       "        text-align: right;\n",
       "    }\n",
       "</style>\n",
       "<table border=\"1\" class=\"dataframe\">\n",
       "  <thead>\n",
       "    <tr style=\"text-align: right;\">\n",
       "      <th></th>\n",
       "      <th>parametr name</th>\n",
       "      <th>value</th>\n",
       "      <th>train</th>\n",
       "      <th>test</th>\n",
       "    </tr>\n",
       "  </thead>\n",
       "  <tbody>\n",
       "    <tr>\n",
       "      <th>44</th>\n",
       "      <td>neuron_numb</td>\n",
       "      <td>46</td>\n",
       "      <td>85.951787</td>\n",
       "      <td>85.521886</td>\n",
       "    </tr>\n",
       "    <tr>\n",
       "      <th>75</th>\n",
       "      <td>neuron_numb</td>\n",
       "      <td>77</td>\n",
       "      <td>85.203658</td>\n",
       "      <td>86.531987</td>\n",
       "    </tr>\n",
       "    <tr>\n",
       "      <th>76</th>\n",
       "      <td>neuron_numb</td>\n",
       "      <td>78</td>\n",
       "      <td>87.448047</td>\n",
       "      <td>85.185185</td>\n",
       "    </tr>\n",
       "    <tr>\n",
       "      <th>86</th>\n",
       "      <td>neuron_numb</td>\n",
       "      <td>88</td>\n",
       "      <td>88.611804</td>\n",
       "      <td>88.383838</td>\n",
       "    </tr>\n",
       "    <tr>\n",
       "      <th>87</th>\n",
       "      <td>neuron_numb</td>\n",
       "      <td>89</td>\n",
       "      <td>86.118038</td>\n",
       "      <td>86.195286</td>\n",
       "    </tr>\n",
       "    <tr>\n",
       "      <th>88</th>\n",
       "      <td>neuron_numb</td>\n",
       "      <td>90</td>\n",
       "      <td>87.614298</td>\n",
       "      <td>85.016835</td>\n",
       "    </tr>\n",
       "    <tr>\n",
       "      <th>97</th>\n",
       "      <td>neuron_numb</td>\n",
       "      <td>99</td>\n",
       "      <td>91.687448</td>\n",
       "      <td>89.057239</td>\n",
       "    </tr>\n",
       "  </tbody>\n",
       "</table>\n",
       "</div>"
      ],
      "text/plain": [
       "   parametr name  value      train       test\n",
       "44   neuron_numb     46  85.951787  85.521886\n",
       "75   neuron_numb     77  85.203658  86.531987\n",
       "76   neuron_numb     78  87.448047  85.185185\n",
       "86   neuron_numb     88  88.611804  88.383838\n",
       "87   neuron_numb     89  86.118038  86.195286\n",
       "88   neuron_numb     90  87.614298  85.016835\n",
       "97   neuron_numb     99  91.687448  89.057239"
      ]
     },
     "execution_count": 11,
     "metadata": {},
     "output_type": "execute_result"
    }
   ],
   "source": [
    "df.loc[(df['train'] > 85) & (df['test'] > 85)]"
   ]
  },
  {
   "cell_type": "code",
   "execution_count": 12,
   "id": "a00b900b",
   "metadata": {},
   "outputs": [
    {
     "data": {
      "image/png": "[encoded data removed]",
      "text/plain": [
       "<Figure size 432x288 with 1 Axes>"
      ]
     },
     "metadata": {
      "needs_background": "light"
     },
     "output_type": "display_data"
    }
   ],
   "source": [
    "plt.plot(df['value'], df['train'])\n",
    "plt.plot(df['value'], df['test']);"
   ]
  },
  {
   "cell_type": "markdown",
   "id": "08534eea",
   "metadata": {},
   "source": [
    "Увеличение числа нейронов скрытого слоя увеличивает точность, но в то же время наблюдаются провалы.\n",
    "\n",
    "Оставим количество нейронов скрытого слоя равным 5 и проверим как влияет изменение количества эпох."
   ]
  },
  {
   "cell_type": "code",
   "execution_count": 13,
   "id": "fc5b9e05",
   "metadata": {},
   "outputs": [
    {
     "data": {
      "text/html": [
       "<div>\n",
       "<style scoped>\n",
       "    .dataframe tbody tr th:only-of-type {\n",
       "        vertical-align: middle;\n",
       "    }\n",
       "\n",
       "    .dataframe tbody tr th {\n",
       "        vertical-align: top;\n",
       "    }\n",
       "\n",
       "    .dataframe thead th {\n",
       "        text-align: right;\n",
       "    }\n",
       "</style>\n",
       "<table border=\"1\" class=\"dataframe\">\n",
       "  <thead>\n",
       "    <tr style=\"text-align: right;\">\n",
       "      <th></th>\n",
       "      <th>parametr name</th>\n",
       "      <th>value</th>\n",
       "      <th>train</th>\n",
       "      <th>test</th>\n",
       "    </tr>\n",
       "  </thead>\n",
       "  <tbody>\n",
       "    <tr>\n",
       "      <th>0</th>\n",
       "      <td>num_epochs</td>\n",
       "      <td>100</td>\n",
       "      <td>51.537822</td>\n",
       "      <td>43.265993</td>\n",
       "    </tr>\n",
       "    <tr>\n",
       "      <th>1</th>\n",
       "      <td>num_epochs</td>\n",
       "      <td>500</td>\n",
       "      <td>61.928512</td>\n",
       "      <td>55.555556</td>\n",
       "    </tr>\n",
       "    <tr>\n",
       "      <th>2</th>\n",
       "      <td>num_epochs</td>\n",
       "      <td>1000</td>\n",
       "      <td>65.918537</td>\n",
       "      <td>53.535354</td>\n",
       "    </tr>\n",
       "    <tr>\n",
       "      <th>3</th>\n",
       "      <td>num_epochs</td>\n",
       "      <td>2000</td>\n",
       "      <td>58.852868</td>\n",
       "      <td>61.447811</td>\n",
       "    </tr>\n",
       "    <tr>\n",
       "      <th>4</th>\n",
       "      <td>num_epochs</td>\n",
       "      <td>5000</td>\n",
       "      <td>66.999169</td>\n",
       "      <td>56.565657</td>\n",
       "    </tr>\n",
       "    <tr>\n",
       "      <th>5</th>\n",
       "      <td>num_epochs</td>\n",
       "      <td>10000</td>\n",
       "      <td>62.926018</td>\n",
       "      <td>47.811448</td>\n",
       "    </tr>\n",
       "  </tbody>\n",
       "</table>\n",
       "</div>"
      ],
      "text/plain": [
       "  parametr name  value      train       test\n",
       "0    num_epochs    100  51.537822  43.265993\n",
       "1    num_epochs    500  61.928512  55.555556\n",
       "2    num_epochs   1000  65.918537  53.535354\n",
       "3    num_epochs   2000  58.852868  61.447811\n",
       "4    num_epochs   5000  66.999169  56.565657\n",
       "5    num_epochs  10000  62.926018  47.811448"
      ]
     },
     "execution_count": 13,
     "metadata": {},
     "output_type": "execute_result"
    }
   ],
   "source": [
    "# Обучение нейронной сети\n",
    "\n",
    "# определим число нейронов скрытого слоя\n",
    "neuron_numb = 5\n",
    "df = pd.DataFrame(columns=['parametr name', 'value', 'train', 'test'])\n",
    "p = 0\n",
    "\n",
    "for num_epochs in [100, 500, 1000, 2000, 5000, 10000]:\n",
    "    \n",
    "\n",
    "    # присваивание случайных весов\n",
    "    np.random.seed(1)\n",
    "    w0 = np.random.random((64, neuron_numb))  # для входного слоя    - 64 входа, neuron_numb выходов\n",
    "    w1 = np.random.random((neuron_numb, 10))  # для внутреннего слоя - neuron_numb входов, 10 выходов\n",
    "\n",
    "    # скорость обучения (learning rate)\n",
    "    learning_rate = 0.1\n",
    "\n",
    "    # количество итераций\n",
    "    #num_epochs = 1000\n",
    "\n",
    "    # массив для ошибок, чтобы потом построить график\n",
    "    errors = []\n",
    "    metrics = []\n",
    "\n",
    "\n",
    "    # процесс обучения\n",
    "    for i in range(num_epochs):\n",
    "\n",
    "        # прямое распространение(feed forward)\n",
    "        layer0 = X_train\n",
    "        layer1 = sigmoid(np.dot(layer0, w0))\n",
    "        layer2 = sigmoid(np.dot(layer1, w1))\n",
    "\n",
    "        # обратное распространение (back propagation)\n",
    "        #  с использованием градиентного спуска\n",
    "        layer2_error = layer2 - y_train  # производная функции потерь\n",
    "        layer2_grad = layer2_error * sigmoid_deriv(layer2)\n",
    "\n",
    "        layer1_error = layer2_grad.dot(w1.T)\n",
    "        layer1_grad = layer1_error * sigmoid_deriv(layer1)\n",
    "\n",
    "        w1 -= layer1.T.dot(layer2_grad) * learning_rate\n",
    "        w0 -= layer0.T.dot(layer1_grad) * learning_rate\n",
    "\n",
    "        # метрики качества\n",
    "        preds = np.argmax(layer2, axis=1)\n",
    "        labels = np.argmax(y_train, axis=1)\n",
    "        accuracy = (preds == labels).sum() * 100 / len(labels)\n",
    "    \n",
    "    # прямое распространение(feed forward)\n",
    "    layer0_test = X_test\n",
    "    layer1_test = sigmoid(np.dot(layer0_test, w0))\n",
    "    layer2_test = sigmoid(np.dot(layer1_test, w1))\n",
    "\n",
    "    # метрика модели\n",
    "    preds_test = np.argmax(layer2_test, axis=1)\n",
    "    labels_test = np.argmax(y_test, axis=1)\n",
    "    accuracy_test = (preds_test == labels_test).sum() * 100 / len(labels_test)\n",
    "    \n",
    "    df.loc[p] = ['num_epochs', num_epochs, accuracy, accuracy_test]\n",
    "    p += 1\n",
    "\n",
    "df"
   ]
  },
  {
   "cell_type": "code",
   "execution_count": 14,
   "id": "14be521e",
   "metadata": {},
   "outputs": [
    {
     "data": {
      "image/png": "[encoded data removed]",
      "text/plain": [
       "<Figure size 432x288 with 1 Axes>"
      ]
     },
     "metadata": {
      "needs_background": "light"
     },
     "output_type": "display_data"
    }
   ],
   "source": [
    "plt.plot(df['value'], df['train'])\n",
    "plt.plot(df['value'], df['test']);"
   ]
  },
  {
   "cell_type": "markdown",
   "id": "47d946b7",
   "metadata": {},
   "source": [
    "Увеличение числа эпох повышает скор."
   ]
  },
  {
   "cell_type": "code",
   "execution_count": null,
   "id": "ff6f1ba1",
   "metadata": {},
   "outputs": [],
   "source": []
  }
 ],
 "metadata": {
  "kernelspec": {
   "display_name": "Python 3 (ipykernel)",
   "language": "python",
   "name": "python3"
  },
  "language_info": {
   "codemirror_mode": {
    "name": "ipython",
    "version": 3
   },
   "file_extension": ".py",
   "mimetype": "text/x-python",
   "name": "python",
   "nbconvert_exporter": "python",
   "pygments_lexer": "ipython3",
   "version": "3.9.12"
  }
 },
 "nbformat": 4,
 "nbformat_minor": 5
}
