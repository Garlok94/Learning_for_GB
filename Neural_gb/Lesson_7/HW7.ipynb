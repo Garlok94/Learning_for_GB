{
 "cells": [
  {
   "cell_type": "code",
   "execution_count": 2,
   "id": "72c38f3e",
   "metadata": {},
   "outputs": [],
   "source": [
    "import numpy as np\n",
    "import os\n",
    "import shutil\n",
    "from pathlib import Path\n",
    "from PIL import Image\n",
    "\n",
    "from imageai.Detection.Custom import DetectionModelTrainer\n",
    "from imageai.Detection.Custom import CustomObjectDetection"
   ]
  },
  {
   "cell_type": "code",
   "execution_count": null,
   "id": "0b134972",
   "metadata": {},
   "outputs": [],
   "source": [
    "root_annots_path = '/content/chess-piece-dectection/annotations/'\n",
    "root_images_path = '/content/chess-piece-dectection/images/'\n",
    "\n",
    "annots_path = sorted([i for i in Path(root_annots_path).glob('*.xml')])\n",
    "images_path = sorted([i for i in Path(root_images_path).glob('*.png')])\n",
    "\n",
    "n_imgs = len(images_path)\n",
    "print('Количество картинок: ', n_imgs)"
   ]
  },
  {
   "cell_type": "code",
   "execution_count": null,
   "id": "4e869087",
   "metadata": {},
   "outputs": [],
   "source": [
    "classes = np.array([\"white-pawn\", \"black-pawn\",\n",
    "                    \"white-bishop\", \"black-bishop\",\n",
    "                    \"white-knight\", \"black-knight\",\n",
    "                    \"white-king\", \"black-king\",\n",
    "                    \"white-queen\", \"black-queen\",\n",
    "                    \"white-rook\", \"black-rook\"])"
   ]
  },
  {
   "cell_type": "code",
   "execution_count": null,
   "id": "cca814d8",
   "metadata": {},
   "outputs": [],
   "source": [
    "with open(annots_path[50], 'r') as f:\n",
    "    print(f.read())"
   ]
  },
  {
   "cell_type": "code",
   "execution_count": null,
   "id": "d8a52829",
   "metadata": {},
   "outputs": [],
   "source": [
    "# create foldes for train and test\n",
    "os.makedirs('/content/chess-piece-dectection/train/images', exist_ok=True)\n",
    "os.makedirs('/content/chess-piece-dectection/train/annotations', exist_ok=True)\n",
    "\n",
    "os.makedirs('/content/chess-piece-dectection/validation/images', exist_ok=True)\n",
    "os.makedirs('/content/chess-piece-dectection/validation/annotations', exist_ok=True)\n",
    "\n",
    "os.makedirs('/content/chess-piece-dectection/test/images', exist_ok=True)\n",
    "os.makedirs('/content/chess-piece-dectection/test/annotations', exist_ok=True)"
   ]
  },
  {
   "cell_type": "code",
   "execution_count": null,
   "id": "c82ba61a",
   "metadata": {},
   "outputs": [],
   "source": [
    "# делим картинки на трейн, валидацию и тест\n",
    "n_split = n_imgs // 20\n",
    "\n",
    "\n",
    "for i, (annot_path, img_path) in enumerate(zip(annots_path, images_path)):    \n",
    "    if i > n_imgs:\n",
    "        break\n",
    "    # train-val-test split\n",
    "    if i < n_split:\n",
    "        shutil.copy(img_path, '/content/chess-piece-dectection/test/images/' + img_path.parts[-1])\n",
    "        shutil.copy(annot_path, '/content/chess-piece-dectection/test/annotations/' + annot_path.parts[-1])\n",
    "    elif n_split <= i < n_split*5:\n",
    "        shutil.copy(img_path, '/content/chess-piece-dectection/validation/images/' + img_path.parts[-1])\n",
    "        shutil.copy(annot_path, '/content/chess-piece-dectection/validation/annotations/' + annot_path.parts[-1])\n",
    "    else:\n",
    "        shutil.copy(img_path, '/content/chess-piece-dectection/train/images/' + img_path.parts[-1])\n",
    "        shutil.copy(annot_path, '/content/chess-piece-dectection/train/annotations/' + annot_path.parts[-1])"
   ]
  },
  {
   "cell_type": "code",
   "execution_count": null,
   "id": "023332cd",
   "metadata": {},
   "outputs": [],
   "source": [
    "print('test: ', len(list(Path('/content/chess-piece-dectection/train/annotations/').glob('*.xml'))))\n",
    "print('val: ', len(list(Path('/content/chess-piece-dectection/validation/annotations/').glob('*.xml'))))\n",
    "print('test: ', len(list(Path('/content/chess-piece-dectection/test/annotations/').glob('*.xml'))))"
   ]
  },
  {
   "cell_type": "code",
   "execution_count": null,
   "id": "98952454",
   "metadata": {},
   "outputs": [],
   "source": [
    "# скачиваем веса предобученной модели\n",
    "%cd /content/chess-piece-dectection/\n",
    "!wget wget https://pjreddie.com/media/files/yolov3.weights"
   ]
  },
  {
   "cell_type": "code",
   "execution_count": null,
   "id": "5f680248",
   "metadata": {},
   "outputs": [],
   "source": [
    "# скачиваем конвертер весов и конфиг https://github.com/qqwweee/keras-yolo3/find/master\n",
    "!wget wget https://raw.githubusercontent.com/qqwweee/keras-yolo3/master/convert.py\n",
    "!wget wget https://raw.githubusercontent.com/qqwweee/keras-yolo3/master/yolov3.cfg"
   ]
  },
  {
   "cell_type": "code",
   "execution_count": null,
   "id": "c88b634b",
   "metadata": {},
   "outputs": [],
   "source": [
    "%run convert.py yolov3.cfg yolov3.weights yolov3.h5"
   ]
  },
  {
   "cell_type": "code",
   "execution_count": null,
   "id": "4fa9708c",
   "metadata": {},
   "outputs": [],
   "source": [
    "trainer = DetectionModelTrainer()\n",
    "trainer.setModelTypeAsYOLOv3() # дообучать можно только 'большую' YOLO (разработчики)\n",
    "trainer.setDataDirectory(data_directory='/content/chess-piece-dectection/') # где лежат даные\n",
    "trainer.setTrainConfig(object_names_array=classes,\n",
    "                       batch_size=8,\n",
    "                       num_experiments=20,\n",
    "                       # дообучаемся на их модели\n",
    "                       train_from_pretrained_model='/content/chess-piece-dectection/yolov3.h5',\n",
    "                       \n",
    "                       # можно дообучаться со своей модели\n",
    "                       #train_from_pretrained_model=\"imageai/data/models/detection_model-ex-009--loss-0024.110.h5\")\n",
    "                       )"
   ]
  },
  {
   "cell_type": "code",
   "execution_count": null,
   "id": "51bc1cf4",
   "metadata": {},
   "outputs": [],
   "source": [
    "trainer.trainModel()"
   ]
  },
  {
   "cell_type": "code",
   "execution_count": null,
   "id": "2cb64e6c",
   "metadata": {},
   "outputs": [],
   "source": [
    "# извлекаем путь к последней модели\n",
    "model_path = sorted(list(Path('/content/chess-piece-dectection/models/').iterdir()))[-1]\n",
    "model_path"
   ]
  },
  {
   "cell_type": "code",
   "execution_count": null,
   "id": "0ec7cc34",
   "metadata": {},
   "outputs": [],
   "source": [
    "trainer = DetectionModelTrainer()\n",
    "trainer.setModelTypeAsYOLOv3()\n",
    "trainer.setDataDirectory(data_directory=\"/content/chess-piece-dectection/\")\n",
    "metrics = trainer.evaluateModel(model_path=model_path,\n",
    "                                json_path=\"/content/chess-piece-dectection/json/detection_config.json\",\n",
    "                                iou_threshold=0.2,\n",
    "                                object_threshold=0.3,\n",
    "                                nms_threshold=0.5)"
   ]
  },
  {
   "cell_type": "code",
   "execution_count": null,
   "id": "78c82a8e",
   "metadata": {},
   "outputs": [],
   "source": [
    "input_image_path=\"/content/chess-piece-dectection/test/images/chess0.png\"\n",
    "output_image_path=\"/content/chess-piece-dectection/test/images/detected.jpg\""
   ]
  },
  {
   "cell_type": "code",
   "execution_count": null,
   "id": "af58afc5",
   "metadata": {},
   "outputs": [],
   "source": [
    "detector = CustomObjectDetection()\n",
    "detector.setModelTypeAsYOLOv3()\n",
    "detector.setModelPath(model_path)\n",
    "detector.setJsonPath(\"/content/chess-piece-dectection/json/detection_config.json\")\n",
    "detector.loadModel()\n",
    "detections = detector.detectObjectsFromImage(minimum_percentage_probability=60,\n",
    "                                             input_image=input_image_path,\n",
    "                                             output_image_path=output_image_path)\n",
    "for detection in detections:\n",
    "    print(detection[\"name\"], \" : \", detection[\"percentage_probability\"], \" : \", detection[\"box_points\"])"
   ]
  },
  {
   "cell_type": "code",
   "execution_count": null,
   "id": "81d281f8",
   "metadata": {},
   "outputs": [],
   "source": [
    "Image.open(input_image_path)"
   ]
  },
  {
   "cell_type": "code",
   "execution_count": null,
   "id": "9c82e92d",
   "metadata": {},
   "outputs": [],
   "source": [
    "Image.open(output_image_path)"
   ]
  },
  {
   "cell_type": "markdown",
   "id": "09a8e15c",
   "metadata": {},
   "source": [
    "Вывод: обучение на 10 эпохах дало весьма посредственный результат. На 20 - значительно лучше. Это заметно и по отрисовке боксов и по тому как снижается лосс. Очевидно, при увеличении количества эпох качество будет повышаться."
   ]
  }
 ],
 "metadata": {
  "kernelspec": {
   "display_name": "Python 3 (ipykernel)",
   "language": "python",
   "name": "python3"
  },
  "language_info": {
   "codemirror_mode": {
    "name": "ipython",
    "version": 3
   },
   "file_extension": ".py",
   "mimetype": "text/x-python",
   "name": "python",
   "nbconvert_exporter": "python",
   "pygments_lexer": "ipython3",
   "version": "3.9.12"
  }
 },
 "nbformat": 4,
 "nbformat_minor": 5
}
