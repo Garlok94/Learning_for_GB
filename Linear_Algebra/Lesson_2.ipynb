{
 "cells": [
  {
   "cell_type": "code",
   "execution_count": 31,
   "id": "b842c790",
   "metadata": {},
   "outputs": [],
   "source": [
    "import numpy as np"
   ]
  },
  {
   "cell_type": "markdown",
   "id": "1d8bce95",
   "metadata": {},
   "source": [
    "### Практическое задание №1"
   ]
  },
  {
   "cell_type": "markdown",
   "id": "24606c7c",
   "metadata": {},
   "source": [
    "Все задания рекомендуется делать вручную, проверяя полученные результаты через NumPy.\n",
    "\n",
    "__1.__ Установите, какие произведения матриц $AB$ и $BA$ определены, и найдите размерности полученных матриц:\n",
    "\n",
    "   а) $A$ — матрица $4\\times 2$, $B$ — матрица $4\\times 2$;\n",
    "    \n",
    "   б) $A$ — матрица $2\\times 5$, $B$ — матрица $5\\times 3$;\n",
    "    \n",
    "   в) $A$ — матрица $8\\times 3$, $B$ — матрица $3\\times 8$;\n",
    "    \n",
    "   г) $A$ — квадратная матрица $4\\times 4$, $B$ — квадратная матрица $4\\times 4$.\n",
    "    \n",
    "__2.__ Найдите сумму и произведение матриц $A=\\begin{pmatrix}\n",
    "1 & -2\\\\ \n",
    "3 & 0\n",
    "\\end{pmatrix}$ и $B=\\begin{pmatrix}\n",
    "4 & -1\\\\ \n",
    "0 & 5\n",
    "\\end{pmatrix}.$\n",
    "\n",
    "__3.__ Из закономерностей сложения и умножения матриц на число можно сделать вывод, что матрицы одного размера образуют линейное пространство. Вычислите линейную комбинацию $3A-2B+4C$ для матриц $A=\\begin{pmatrix}\n",
    "1 & 7\\\\ \n",
    "3 & -6\n",
    "\\end{pmatrix}$, $B=\\begin{pmatrix}\n",
    "0 & 5\\\\ \n",
    "2 & -1\n",
    "\\end{pmatrix}$, $C=\\begin{pmatrix}\n",
    "2 & -4\\\\ \n",
    "1 & 1\n",
    "\\end{pmatrix}.$\n",
    "    \n",
    "__4.__ Дана матрица $A=\\begin{pmatrix}\n",
    "4 & 1\\\\ \n",
    "5 & -2\\\\ \n",
    "2 & 3\n",
    "\\end{pmatrix}$.\n",
    "Вычислите $AA^{T}$ и $A^{T}A$.\n",
    "\n",
    "__5*.__ Напишите на Python функцию для перемножения двух произвольных матриц, не используя NumPy."
   ]
  },
  {
   "cell_type": "markdown",
   "id": "613aa185",
   "metadata": {},
   "source": [
    "### Задание 1\n",
    "а. Произведение не определено\n",
    "\n",
    "б. Произведение определено, размерность 2х3\n",
    "\n",
    "в. Произведение определено, размерность 8х8\n",
    "\n",
    "г. Произведение определено, размерность 4х4"
   ]
  },
  {
   "cell_type": "markdown",
   "id": "ea3b65bf",
   "metadata": {},
   "source": [
    "### Задание 2"
   ]
  },
  {
   "cell_type": "code",
   "execution_count": 32,
   "id": "304603e8",
   "metadata": {},
   "outputs": [],
   "source": [
    "A = np.array([[1, 2], [3, 0]])\n",
    "B = np.array([[4, -1], [0, 5]])"
   ]
  },
  {
   "cell_type": "code",
   "execution_count": 33,
   "id": "91fe4a55",
   "metadata": {},
   "outputs": [
    {
     "data": {
      "text/plain": [
       "array([[5, 1],\n",
       "       [3, 5]])"
      ]
     },
     "execution_count": 33,
     "metadata": {},
     "output_type": "execute_result"
    }
   ],
   "source": [
    "A + B"
   ]
  },
  {
   "cell_type": "code",
   "execution_count": 34,
   "id": "ef9053dc",
   "metadata": {},
   "outputs": [
    {
     "data": {
      "text/plain": [
       "array([[ 4,  9],\n",
       "       [12, -3]])"
      ]
     },
     "execution_count": 34,
     "metadata": {},
     "output_type": "execute_result"
    }
   ],
   "source": [
    "A.dot(B)"
   ]
  },
  {
   "cell_type": "markdown",
   "id": "fc4b0e74",
   "metadata": {},
   "source": [
    "### Задание 3"
   ]
  },
  {
   "cell_type": "code",
   "execution_count": 35,
   "id": "572fc26d",
   "metadata": {},
   "outputs": [
    {
     "data": {
      "text/plain": [
       "array([[ 11,  -5],\n",
       "       [  9, -12]])"
      ]
     },
     "execution_count": 35,
     "metadata": {},
     "output_type": "execute_result"
    }
   ],
   "source": [
    "A = np.array([[1, 7], [3, -6]])\n",
    "B = np.array([[0, 5], [2, -1]])\n",
    "C = np.array([[2, -4], [1, 1]])\n",
    "3*A - 2*B + 4*C"
   ]
  },
  {
   "cell_type": "markdown",
   "id": "f0f3bda4",
   "metadata": {},
   "source": [
    "### Задание 4"
   ]
  },
  {
   "cell_type": "code",
   "execution_count": 36,
   "id": "fca6c821",
   "metadata": {},
   "outputs": [
    {
     "data": {
      "text/plain": [
       "array([[17, 18, 11],\n",
       "       [18, 29,  4],\n",
       "       [11,  4, 13]])"
      ]
     },
     "execution_count": 36,
     "metadata": {},
     "output_type": "execute_result"
    }
   ],
   "source": [
    "A = np.array([[4, 1], [5, -2], [2, 3]])\n",
    "A_T = A.T\n",
    "A.dot(A_T)"
   ]
  },
  {
   "cell_type": "code",
   "execution_count": 37,
   "id": "2723c3d3",
   "metadata": {},
   "outputs": [
    {
     "data": {
      "text/plain": [
       "(2, 2)"
      ]
     },
     "execution_count": 37,
     "metadata": {},
     "output_type": "execute_result"
    }
   ],
   "source": [
    "A_T.dot(A).shape"
   ]
  },
  {
   "cell_type": "markdown",
   "id": "c1bdbdee",
   "metadata": {},
   "source": [
    "### Задание 5"
   ]
  },
  {
   "cell_type": "code",
   "execution_count": 39,
   "id": "7981f108",
   "metadata": {},
   "outputs": [],
   "source": [
    "def matrix_multiply(A,B):\n",
    "    n = A.shape[0]\n",
    "    m = A.shape[1]\n",
    "    k = B.shape[0]\n",
    "    s = B.shape[1]\n",
    "    if m != k:\n",
    "        print(f'Матрицы невозможно перемножить, так как количество строк 2-ой матрицы = {k} /nи' \n",
    "              'оно не совпадает с количеством столбцов 1-ой матрицы = {m}')\n",
    "    else:\n",
    "        Matrix = [[0 for x in range(s)] for y in range(n)] \n",
    "        for i in range(n):\n",
    "            for j in range(s):\n",
    "                w = 0\n",
    "                while w < m:\n",
    "                    Matrix[i][j] += A[i][w]*B[w][j]\n",
    "                    w += 1\n",
    "    return Matrix\n",
    "B = A.T"
   ]
  },
  {
   "cell_type": "code",
   "execution_count": 40,
   "id": "94f99676",
   "metadata": {},
   "outputs": [
    {
     "name": "stdout",
     "output_type": "stream",
     "text": [
      "[17, 18, 11]\n",
      "[18, 29, 4]\n",
      "[11, 4, 13]\n"
     ]
    }
   ],
   "source": [
    "for row in matrix_multiply(A,B):\n",
    "    print(row)"
   ]
  },
  {
   "cell_type": "markdown",
   "id": "b74121c3",
   "metadata": {},
   "source": [
    "### Практическое задание №2"
   ]
  },
  {
   "cell_type": "markdown",
   "id": "c5af7d01",
   "metadata": {},
   "source": [
    "Все задания рекомендуется выполнять вручную, проверяя полученные результаты с использованием NumPy.\n",
    "\n",
    "__1.__ Вычислите определитель:\n",
    "\n",
    "   a)\n",
    "\n",
    "$$\\begin{vmatrix}\n",
    "sinx & -cosx\\\\ \n",
    "cosx & sinx\n",
    "\\end{vmatrix};$$\n",
    "\n",
    "   б)\n",
    "    \n",
    "$$\\begin{vmatrix}\n",
    "4 & 2 & 3\\\\ \n",
    "0 & 5 & 1\\\\ \n",
    "0 & 0 & 9\n",
    "\\end{vmatrix};$$\n",
    "    \n",
    "   в)\n",
    "\n",
    "$$\\begin{vmatrix}\n",
    "1 & 2 & 3\\\\ \n",
    "4 & 5 & 6\\\\ \n",
    "7 & 8 & 9\n",
    "\\end{vmatrix}.$$\n",
    "\n",
    "\n",
    "__2.__ Определитель матрицы $A$ равен $4$. Найдите:\n",
    "\n",
    "   а) $det(A^{2})$;\n",
    "    \n",
    "   б) $det(A^{T})$;\n",
    "    \n",
    "   в) $det(2A)$.\n",
    "   \n",
    "__3.__  Докажите, что матрица:\n",
    "\n",
    "$$\\begin{pmatrix}\n",
    "-2 & 7 & -3\\\\ \n",
    "4 & -14 & 6\\\\ \n",
    "-3 & 7 & 13\n",
    "\\end{pmatrix}$$\n",
    "   \n",
    "вырожденная.\n",
    "\n",
    "__4.__ Найдите ранг матрицы:\n",
    "\n",
    "   а) $\\begin{pmatrix}\n",
    "1 & 2 & 3\\\\ \n",
    "1 & 1 & 1\\\\ \n",
    "2 & 3 & 4\n",
    "\\end{pmatrix};$\n",
    "\n",
    "   б) $\\begin{pmatrix}\n",
    "0 & 0 & 2 & 1\\\\ \n",
    "0 & 0 & 2 & 2\\\\ \n",
    "0 & 0 & 4 & 3\\\\ \n",
    "2 & 3 & 5 & 6\n",
    "\\end{pmatrix}.$"
   ]
  },
  {
   "cell_type": "markdown",
   "id": "01327c2c",
   "metadata": {},
   "source": [
    "### Задание 1"
   ]
  },
  {
   "cell_type": "markdown",
   "id": "be93b96f",
   "metadata": {},
   "source": [
    "a)\n",
    "\n",
    "s\n",
    "i\n",
    "n\n",
    "2\n",
    "x\n",
    "−\n",
    "(\n",
    "−\n",
    "c\n",
    "o\n",
    "s\n",
    "2\n",
    "x\n",
    ")\n",
    " = 1"
   ]
  },
  {
   "cell_type": "code",
   "execution_count": 41,
   "id": "9d3cedc7",
   "metadata": {},
   "outputs": [
    {
     "ename": "NameError",
     "evalue": "name 'det' is not defined",
     "output_type": "error",
     "traceback": [
      "\u001b[0;31m---------------------------------------------------------------------------\u001b[0m",
      "\u001b[0;31mNameError\u001b[0m                                 Traceback (most recent call last)",
      "Input \u001b[0;32mIn [41]\u001b[0m, in \u001b[0;36m<cell line: 2>\u001b[0;34m()\u001b[0m\n\u001b[1;32m      1\u001b[0m B \u001b[38;5;241m=\u001b[39m np\u001b[38;5;241m.\u001b[39mmatrix(\u001b[38;5;124m'\u001b[39m\u001b[38;5;124m4, 2, 3; 0, 5, 1; 0, 0, 9\u001b[39m\u001b[38;5;124m'\u001b[39m)\n\u001b[0;32m----> 2\u001b[0m \u001b[43mdet\u001b[49m(B)\n",
      "\u001b[0;31mNameError\u001b[0m: name 'det' is not defined"
     ]
    }
   ],
   "source": [
    "B = np.matrix('4, 2, 3; 0, 5, 1; 0, 0, 9')\n",
    "det(B)"
   ]
  },
  {
   "cell_type": "code",
   "execution_count": 42,
   "id": "e297b10f",
   "metadata": {},
   "outputs": [
    {
     "ename": "NameError",
     "evalue": "name 'det' is not defined",
     "output_type": "error",
     "traceback": [
      "\u001b[0;31m---------------------------------------------------------------------------\u001b[0m",
      "\u001b[0;31mNameError\u001b[0m                                 Traceback (most recent call last)",
      "Input \u001b[0;32mIn [42]\u001b[0m, in \u001b[0;36m<cell line: 2>\u001b[0;34m()\u001b[0m\n\u001b[1;32m      1\u001b[0m C \u001b[38;5;241m=\u001b[39m np\u001b[38;5;241m.\u001b[39mmatrix(\u001b[38;5;124m'\u001b[39m\u001b[38;5;124m1, 2, 3; 4, 5, 6; 7, 8, 9\u001b[39m\u001b[38;5;124m'\u001b[39m)\n\u001b[0;32m----> 2\u001b[0m \u001b[43mdet\u001b[49m(C)\n",
      "\u001b[0;31mNameError\u001b[0m: name 'det' is not defined"
     ]
    }
   ],
   "source": [
    "C = np.matrix('1, 2, 3; 4, 5, 6; 7, 8, 9')\n",
    "det(C)"
   ]
  },
  {
   "cell_type": "markdown",
   "id": "460f98f3",
   "metadata": {},
   "source": [
    "### Задание 2"
   ]
  },
  {
   "cell_type": "markdown",
   "id": "325ac4b7",
   "metadata": {},
   "source": [
    "а) \n",
    "d\n",
    "e\n",
    "t\n",
    "(\n",
    "A\n",
    "2\n",
    ")\n",
    " = \n",
    "d\n",
    "e\n",
    "t\n",
    "(\n",
    "A\n",
    ")\n",
    "×\n",
    "d\n",
    "e\n",
    "t\n",
    "(\n",
    "A\n",
    ")\n",
    " = 16\n",
    "\n",
    "б) \n",
    "d\n",
    "e\n",
    "t\n",
    "(\n",
    "A\n",
    "T\n",
    ")\n",
    " = \n",
    "d\n",
    "e\n",
    "t\n",
    "(\n",
    "A\n",
    ")\n",
    " = 4\n",
    "\n",
    "в) \n",
    "d\n",
    "e\n",
    "t\n",
    "(\n",
    "2\n",
    "A\n",
    ")\n",
    " = \n",
    "2\n",
    "r\n",
    "a\n",
    "n\n",
    "k\n",
    "(\n",
    "A\n",
    ")\n",
    "×\n",
    "d\n",
    "e\n",
    "t\n",
    "(\n",
    "A\n",
    ")\n",
    " = \n",
    "2\n",
    "r\n",
    "a\n",
    "n\n",
    "k\n",
    "(\n",
    "A\n",
    ")\n",
    "×\n",
    "4\n",
    " = "
   ]
  },
  {
   "cell_type": "markdown",
   "id": "bc1e6077",
   "metadata": {},
   "source": [
    "### Задание 3"
   ]
  },
  {
   "cell_type": "code",
   "execution_count": 43,
   "id": "08c83297",
   "metadata": {},
   "outputs": [],
   "source": [
    "rank = np.linalg.matrix_rank\n",
    "inv = np.linalg.inv"
   ]
  },
  {
   "cell_type": "code",
   "execution_count": 44,
   "id": "d791a135",
   "metadata": {},
   "outputs": [
    {
     "name": "stdout",
     "output_type": "stream",
     "text": [
      "Ранг матрицы равен 2\n",
      "Нет обратной матрицы\n"
     ]
    }
   ],
   "source": [
    "A = np.matrix('-2, 7, -3; 4, -14, 6; -3, 7, 13')\n",
    "print(f'Ранг матрицы равен {rank(A)}')\n",
    "try:\n",
    "    print(f'Обратная матрица {inv(A)}')\n",
    "except:\n",
    "    print('Нет обратной матрицы')"
   ]
  },
  {
   "cell_type": "markdown",
   "id": "5755a74b",
   "metadata": {},
   "source": [
    "### Задание 4"
   ]
  },
  {
   "cell_type": "code",
   "execution_count": 45,
   "id": "26dde9ad",
   "metadata": {},
   "outputs": [
    {
     "data": {
      "text/plain": [
       "2"
      ]
     },
     "execution_count": 45,
     "metadata": {},
     "output_type": "execute_result"
    }
   ],
   "source": [
    "A = np.matrix('1, 2, 3; 1, 1, 1; 2, 3, 4')\n",
    "rank(A)"
   ]
  },
  {
   "cell_type": "code",
   "execution_count": 46,
   "id": "da152027",
   "metadata": {},
   "outputs": [
    {
     "data": {
      "text/plain": [
       "3"
      ]
     },
     "execution_count": 46,
     "metadata": {},
     "output_type": "execute_result"
    }
   ],
   "source": [
    "B = np.matrix('0, 0, 2, 1; 0, 0, 2, 2; 0, 0, 4, 3; 2, 3, 5, 6')\n",
    "rank(B)"
   ]
  },
  {
   "cell_type": "code",
   "execution_count": null,
   "id": "54aa2631",
   "metadata": {},
   "outputs": [],
   "source": []
  }
 ],
 "metadata": {
  "kernelspec": {
   "display_name": "Python 3 (ipykernel)",
   "language": "python",
   "name": "python3"
  },
  "language_info": {
   "codemirror_mode": {
    "name": "ipython",
    "version": 3
   },
   "file_extension": ".py",
   "mimetype": "text/x-python",
   "name": "python",
   "nbconvert_exporter": "python",
   "pygments_lexer": "ipython3",
   "version": "3.9.12"
  }
 },
 "nbformat": 4,
 "nbformat_minor": 5
}
