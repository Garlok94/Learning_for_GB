{
 "cells": [
  {
   "cell_type": "code",
   "execution_count": 3,
   "id": "8bd47005",
   "metadata": {},
   "outputs": [],
   "source": [
    "import numpy as np"
   ]
  },
  {
   "cell_type": "markdown",
   "id": "d23a6231",
   "metadata": {},
   "source": [
    "\n",
    "\n",
    "\n",
    "\n",
    "__1.__ Найдите собственные векторы и собственные значения для линейного оператора, заданного матрицей:\n",
    "\n",
    "$$A=\\begin{pmatrix}\n",
    "-1 & -6\\\\ \n",
    "2 & 6\n",
    "\\end{pmatrix}.$$\n"
   ]
  },
  {
   "cell_type": "code",
   "execution_count": 4,
   "id": "32e806ef",
   "metadata": {},
   "outputs": [],
   "source": [
    "def is_eig(A):\n",
    "    w, v = np.linalg.eig(A)\n",
    "    print(f'Матрица A:\\n{A}')\n",
    "    print(f'Собственные значения:\\n{w}')\n",
    "    print(f'Собственные векторы:\\n{v}')"
   ]
  },
  {
   "cell_type": "code",
   "execution_count": 5,
   "id": "36aa87f2",
   "metadata": {},
   "outputs": [
    {
     "name": "stdout",
     "output_type": "stream",
     "text": [
      "Матрица A:\n",
      "[[-1 -6]\n",
      " [ 2  6]]\n",
      "Собственные значения:\n",
      "[2. 3.]\n",
      "Собственные векторы:\n",
      "[[-0.89442719  0.83205029]\n",
      " [ 0.4472136  -0.5547002 ]]\n"
     ]
    }
   ],
   "source": [
    "A = np.array([[-1, -6], [2, 6]])\n",
    "is_eig(A)"
   ]
  },
  {
   "cell_type": "markdown",
   "id": "701463ef",
   "metadata": {},
   "source": [
    "\n",
    "__2.__ Дан оператор поворота на 180 градусов, задаваемый матрицей:\n",
    "\n",
    "$$A=\\begin{pmatrix}\n",
    "-1 & 0\\\\ \n",
    "0 & -1\n",
    "\\end{pmatrix}.$$\n",
    "\n",
    "Покажите, что __любой__ вектор считается для него собственным.\n"
   ]
  },
  {
   "cell_type": "markdown",
   "id": "7639c40a",
   "metadata": {},
   "source": [
    "##### Ответ:\n",
    " \n",
    "−1(1\t0\t0\t1 )(x1x2 )=λ(x1x2 ).λ=−1\n",
    "\n",
    "Справедливо для любого вектора"
   ]
  },
  {
   "cell_type": "markdown",
   "id": "6c62b2f5",
   "metadata": {},
   "source": [
    "\n",
    "__3.__ Пусть линейный оператор задан матрицей:\n",
    "\n",
    "$$A=\\begin{pmatrix}\n",
    "1 & 1\\\\ \n",
    "-1 & 3\n",
    "\\end{pmatrix}.$$\n",
    "\n",
    "Установите, считается ли вектор $x=(1,1)$ собственным вектором этого линейного оператора.\n",
    "\n"
   ]
  },
  {
   "cell_type": "markdown",
   "id": "05d373e4",
   "metadata": {},
   "source": [
    "##### Ответ:\n",
    "\n",
    "\n",
    "  \t \n",
    "{1+1=1⋅λ\t−1+3=1⋅λ ⇒{λ=2\tλ=2.\n",
    "\n",
    "Вектор x=(1,1) является собственным вектором линейного оператора, заданного матрицей A."
   ]
  },
  {
   "cell_type": "code",
   "execution_count": 12,
   "id": "60feca63",
   "metadata": {},
   "outputs": [
    {
     "name": "stdout",
     "output_type": "stream",
     "text": [
      "Матрица A:\n",
      "[[ 1  1]\n",
      " [-1  3]]\n",
      "Собственные значения:\n",
      "[2.00000002 1.99999998]\n",
      "Собственные векторы:\n",
      "[[ 0.70710677 -0.70710679]\n",
      " [ 0.70710679 -0.70710677]]\n"
     ]
    }
   ],
   "source": [
    "A = np.array([[1, 1], [-1, 3]])\n",
    "is_eig(A)"
   ]
  },
  {
   "cell_type": "markdown",
   "id": "222bc889",
   "metadata": {},
   "source": [
    "**4.** Пусть линейный оператор задан матрицей:\n",
    "\n",
    "$$A=\\begin{pmatrix} 0 & 3 & 0\\\\ 3 & 0 & 0\\\\ 0 & 0 & 3 \\end{pmatrix}.$$\n",
    "\n",
    "Установите, считается ли вектор $x=(3, -3, -4)$ собственным вектором этого линейного оператора."
   ]
  },
  {
   "cell_type": "markdown",
   "id": "e9ae4af1",
   "metadata": {},
   "source": [
    "##### Ответ:\n",
    "\n",
    "(0\t3\t0\t3\t0\t0\t0\t0\t3 )(3\t−3\t−4 )=λ(3\t−3\t−4 ){−9=3⋅λ\t9=−3⋅λ\t−12=−4⋅λ ⇒{λ=−3\tλ=−3\tλ=3 .\n",
    "\n",
    "Вектор x=(3,−3,−4)не является собственным вектором линейного оператора, заданного матрицей A."
   ]
  },
  {
   "cell_type": "code",
   "execution_count": 14,
   "id": "b2295511",
   "metadata": {},
   "outputs": [
    {
     "name": "stdout",
     "output_type": "stream",
     "text": [
      "Матрица A:\n",
      "[[0 3 0]\n",
      " [3 0 0]\n",
      " [0 0 3]]\n",
      "Собственные значения:\n",
      "[ 3. -3.  3.]\n",
      "Собственные векторы:\n",
      "[[ 0.70710678 -0.70710678  0.        ]\n",
      " [ 0.70710678  0.70710678  0.        ]\n",
      " [ 0.          0.          1.        ]]\n"
     ]
    }
   ],
   "source": [
    "A = np.array([[0, 3, 0], [3, 0, 0], [0, 0, 3]])\n",
    "is_eig(A)"
   ]
  },
  {
   "cell_type": "code",
   "execution_count": null,
   "id": "8e330a3f",
   "metadata": {},
   "outputs": [],
   "source": []
  }
 ],
 "metadata": {
  "kernelspec": {
   "display_name": "Python 3 (ipykernel)",
   "language": "python",
   "name": "python3"
  },
  "language_info": {
   "codemirror_mode": {
    "name": "ipython",
    "version": 3
   },
   "file_extension": ".py",
   "mimetype": "text/x-python",
   "name": "python",
   "nbconvert_exporter": "python",
   "pygments_lexer": "ipython3",
   "version": "3.9.12"
  }
 },
 "nbformat": 4,
 "nbformat_minor": 5
}
