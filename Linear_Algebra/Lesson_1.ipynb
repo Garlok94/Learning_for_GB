{
 "cells": [
  {
   "cell_type": "markdown",
   "id": "74d0e6d9",
   "metadata": {},
   "source": [
    "### Практическое задание №1"
   ]
  },
  {
   "cell_type": "markdown",
   "id": "9911a354",
   "metadata": {},
   "source": [
    "__1.__ Исследуйте на линейную зависимость:\n",
    "\n",
    "$$f_{1}(x)=e^{x}, f_{2}(x)=1, f_{3}(x)=x+1, f_{4}(x)=x-e^{x}.$$\n",
    "\n",
    "##### Ответ: \n",
    "f4(x)=f3(x)−f2(x)−f1(x) - Следовательно, функции линейно зависимы\n",
    "\n",
    "__2.__ Исследуйте на линейную зависимость:\n",
    "$$f_{1}(x)=2, f_{2}(x)=x, f_{3}(x)=x^{2}, f_{4}(x)=(x+1)^{2}$$\n",
    "\n",
    "##### Ответ: \n",
    "f4(x)=x2+2x+1=f3(x)+2f2(x)+0.5f1(x) - Следовательно, функции линейно зависимы\n",
    "\n",
    "__3.__ Найдите координаты вектора $x = (2, 3, 5)\\in \\mathbb{R}^{3}$ в базисе $b_{1}=(0, 0, 10)$, $b_{2}=(2, 0, 0)$, $b_{3}=(0, 1, 0)$.\n",
    "\n",
    "##### Ответ: \n",
    "x=1⋅b2+3⋅b3+0.5⋅b1т.е. x = (0.5, 1, 3)\n",
    "\n",
    "__4.__ Найдите координаты вектора $3x^{2}-2x+2\\in\\mathbb{R}^{3}[x]$:\n",
    "\n",
    "а) в базисе $1$, $x$, $x^{2}$;\n",
    "\n",
    "б) в базисе $x^{2}$, $x-1$, $1$.\n",
    "\n",
    "##### Ответ:\n",
    "\n",
    "##### a) Вектор \n",
    "a4=(3,−2,2)\n",
    "\n",
    "##### Базис:\n",
    "\n",
    "a1=(0,0,1)\n",
    "\n",
    "a2=(0,1,0)\n",
    "\n",
    "a4=(1,0,0)\n",
    "\n",
    "a4=xa1+ya2+za3\n",
    "\n",
    "a4=3i−2j+2k\n",
    "\n",
    "a1=k\n",
    "\n",
    "a2=j\n",
    "\n",
    "a3=i\n",
    "\n",
    "3i - 2j + 2k = xk +yj +zi\n",
    "\n",
    "##### Result: x = 2, y = -2, z = 3\n",
    "\n",
    "##### b) Вектор \n",
    "a4=(3,−2,2)\n",
    "\n",
    "##### Базис:\n",
    "\n",
    "a1=(1,0,0)=i\n",
    "\n",
    "a2=(0,1,−1)=j−k\n",
    "\n",
    "a3=(0,0,1)=k\n",
    "\n",
    "a4=xa1+ya2+za3\n",
    "\n",
    "3i - 2j + 2k = ix +jy - ky +kz\n",
    "\n",
    "3i = ix x = 3\n",
    "\n",
    "-2j = jy <=> y = -2\n",
    "\n",
    "2k = kz-ky 2 = z + 2\n",
    "\n",
    "##### Result: x = 3, y = -2, z = 0\n",
    "\n",
    "__5.__ Установите, считается ли линейным подпространством:\n",
    "\n",
    "а) совокупность всех векторов трёхмерного пространства, у которых по крайней мере одна из первых двух координат равна нулю;\n",
    "    \n",
    "б) все векторы, считающиеся линейными комбинациями данных векторов $\\{u_{1}, u_{2} \\ldots, u_{n}\\}$.\n",
    "\n",
    "##### Ответ:\n",
    "\n",
    "а) = нет, так как нет соотвествия условию например:\n",
    "(a,0,c)+(0,b,d)=(a,b,c+d)\n",
    "\n",
    "б) - да\n",
    "\n",
    "##### Любой вектор множества можно представить в виде\n",
    "\n",
    "∑t=1nλtut\n",
    "\n",
    "##### Сумма двух векторов:\n",
    "\n",
    "∑t=1nαtut+∑t=1nβtut=∑t=1n(αt+βt)ut=∑t=1nλtut\n",
    "\n",
    "##### Произведение вектора на число:\n",
    "α⋅∑t=1nλtut=∑t=1nα⋅λtut=∑t=1nβtut\n",
    "\n",
    "Т.к. полученные вектора принадлежат указанному множеству, поэтому указанное множество векторов является линейным подпространством."
   ]
  },
  {
   "cell_type": "markdown",
   "id": "3eb0e00c",
   "metadata": {},
   "source": [
    "### Практическое задание №2"
   ]
  },
  {
   "cell_type": "code",
   "execution_count": 11,
   "id": "05818f45",
   "metadata": {},
   "outputs": [],
   "source": [
    "import numpy as np\n",
    "from numpy.linalg import norm"
   ]
  },
  {
   "cell_type": "markdown",
   "id": "e4aae588",
   "metadata": {},
   "source": [
    "__1.__ Найдите скалярное произведение векторов $x, y \\in \\mathbb{R}$:<br>\n",
    "а) $x=(0,-3, 6),~y=(-4, 7, 9);$<br>\n",
    "б) $x=(7, -4, 0, 1),~y=(-3, 1, 11, 2).$"
   ]
  },
  {
   "cell_type": "code",
   "execution_count": 8,
   "id": "dec457e9",
   "metadata": {},
   "outputs": [
    {
     "name": "stdout",
     "output_type": "stream",
     "text": [
      "a * b = 33\n"
     ]
    }
   ],
   "source": [
    "x = np.array([0, -3, 6])\n",
    "y = np.array([-4, 7, 9])\n",
    "print(\"a * b =\", np.dot(x, y))"
   ]
  },
  {
   "cell_type": "code",
   "execution_count": 9,
   "id": "816e953f",
   "metadata": {},
   "outputs": [
    {
     "name": "stdout",
     "output_type": "stream",
     "text": [
      "a * b = -23\n"
     ]
    }
   ],
   "source": [
    "x = np.array([7, -4, 0, 1])\n",
    "y = np.array([-3, 1, 11, 2])\n",
    "print(\"a * b =\", np.dot(x, y))"
   ]
  },
  {
   "cell_type": "markdown",
   "id": "29761f0b",
   "metadata": {},
   "source": [
    "__2.__ Найдите нормы векторов $(4, 2, 4)$ и $(12, 3, 4)$ и угол между ними."
   ]
  },
  {
   "cell_type": "code",
   "execution_count": 12,
   "id": "615f6a30",
   "metadata": {},
   "outputs": [
    {
     "name": "stdout",
     "output_type": "stream",
     "text": [
      "6.0\n",
      "13.0\n",
      "Косинус угла между векторами 0.90\n",
      "Угол 0.46\n"
     ]
    }
   ],
   "source": [
    "a = np.array([4, 2, 4])\n",
    "b = np.array([12, 3, 4])\n",
    "\n",
    "print(norm(a))\n",
    "print(norm(b))\n",
    "\n",
    "cos_phi = np.dot(a, b) / norm(a) / norm(b)\n",
    "print(f'Косинус угла между векторами {cos_phi:.2f}')\n",
    "print(f'Угол {np.arccos(cos_phi):.2f}')"
   ]
  },
  {
   "cell_type": "markdown",
   "id": "473f9c75",
   "metadata": {},
   "source": [
    "__3.__ Определите, будет ли линейное пространство евклидовым, если за скалярное произведение принять:<br>\n",
    "а) произведение длин векторов;<br>\n",
    "б) утроенное обычное скалярное произведение векторов?<br>"
   ]
  },
  {
   "cell_type": "markdown",
   "id": "c606bed9",
   "metadata": {},
   "source": [
    "##### Определение. Линейное пространство E называется евклидовым,если в нем определено скалярное произведение. Значит:\n",
    "а) можно \n",
    "б) можно"
   ]
  },
  {
   "cell_type": "markdown",
   "id": "e108c924",
   "metadata": {},
   "source": [
    "__4.__ Выясните, какие из нижеперечисленных векторов образуют ортонормированный базис в линейном пространстве $\\mathbb{R}^{3}$:<br>\n",
    "а) $(1,0,0),(0,0,1);$ <br>\n",
    "б) $(1/\\sqrt{2},-1/\\sqrt{2},0),(1/\\sqrt{2},1/\\sqrt{2},0), (0,0,1);$<br>\n",
    "в) $(1/2, -1/2, 0), (0, 1/2, 1/2), (0,0,1);$<br>\n",
    "г) $(1,0,0),(0,1,0),(0,0,1)?$ "
   ]
  },
  {
   "cell_type": "code",
   "execution_count": 13,
   "id": "043351df",
   "metadata": {},
   "outputs": [
    {
     "name": "stdout",
     "output_type": "stream",
     "text": [
      "Ортонормированный базис 0\n"
     ]
    }
   ],
   "source": [
    "# а)  (1,0,0),(0,0,1);\n",
    "a = np.array([1, 0, 0])\n",
    "b = np.array([0, 0, 1])\n",
    "print('Ортонормированный базис', np.dot(a, b))"
   ]
  },
  {
   "cell_type": "code",
   "execution_count": 14,
   "id": "382e85e6",
   "metadata": {},
   "outputs": [
    {
     "name": "stdout",
     "output_type": "stream",
     "text": [
      "Ортонормированный базис\n",
      "0.0\n",
      "0.0\n",
      "0.0\n",
      "1.0, 1.0, 1.0\n"
     ]
    }
   ],
   "source": [
    "#б)  (1/2⎯⎯√,−1/2⎯⎯√,0),(1/2⎯⎯√,1/2⎯⎯√,0),(0,0,1); \n",
    "c = np.array([(1/(2**0.5)), (-1/(2**0.5)), 0])\n",
    "d = np.array([(1/(2**0.5)), (1/(2**0.5)), 0])\n",
    "b = np.array([0, 0, 1])\n",
    "print('Ортонормированный базис')\n",
    "print(np.dot(c, d))\n",
    "print(np.dot(c, b))\n",
    "print(np.dot(b, d))\n",
    "print(f'{norm(c):.1f}, {norm(d):.1f}, {norm(b):.1f}')"
   ]
  },
  {
   "cell_type": "code",
   "execution_count": 15,
   "id": "7efd32aa",
   "metadata": {},
   "outputs": [
    {
     "name": "stdout",
     "output_type": "stream",
     "text": [
      "Не ортогональный, не ортонормированный базис\n",
      "-0.25\n",
      "0.0\n",
      "0.5\n",
      "0.7071067811865476 0.7071067811865476 1.0\n"
     ]
    }
   ],
   "source": [
    "#в)  (1/2,−1/2,0),(0,1/2,1/2),(0,0,1); \n",
    "e = np.array([0.5, -0.5, 0])\n",
    "f = np.array([0, 0.5, 0.5])\n",
    "b = np.array([0, 0, 1])\n",
    "print('Не ортогональный, не ортонормированный базис')\n",
    "print(np.dot(e, f))\n",
    "print(np.dot(e, b))\n",
    "print(np.dot(b, f))\n",
    "print(norm(e), norm(f), norm(b))"
   ]
  },
  {
   "cell_type": "code",
   "execution_count": 16,
   "id": "3c6d7ff3",
   "metadata": {},
   "outputs": [
    {
     "name": "stdout",
     "output_type": "stream",
     "text": [
      "Ортонормированный базис\n"
     ]
    }
   ],
   "source": [
    "#г)  (1,0,0),(0,1,0),(0,0,1)\n",
    "print('Ортонормированный базис')"
   ]
  },
  {
   "cell_type": "code",
   "execution_count": null,
   "id": "55627742",
   "metadata": {},
   "outputs": [],
   "source": []
  }
 ],
 "metadata": {
  "kernelspec": {
   "display_name": "Python 3 (ipykernel)",
   "language": "python",
   "name": "python3"
  },
  "language_info": {
   "codemirror_mode": {
    "name": "ipython",
    "version": 3
   },
   "file_extension": ".py",
   "mimetype": "text/x-python",
   "name": "python",
   "nbconvert_exporter": "python",
   "pygments_lexer": "ipython3",
   "version": "3.9.12"
  }
 },
 "nbformat": 4,
 "nbformat_minor": 5
}
