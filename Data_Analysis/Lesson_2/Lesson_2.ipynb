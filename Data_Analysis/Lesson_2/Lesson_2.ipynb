{
 "cells": [
  {
   "cell_type": "code",
   "execution_count": 4,
   "id": "314a5257",
   "metadata": {},
   "outputs": [],
   "source": [
    "import numpy as np\n",
    "import matplotlib.pyplot as plt"
   ]
  },
  {
   "cell_type": "code",
   "execution_count": 5,
   "id": "29ff8574",
   "metadata": {},
   "outputs": [],
   "source": [
    "X = np.array([[1, 1, 1, 1, 1, 1, 1, 1, 1, 1],\n",
    "              [1, 1, 2, 5, 3, 0, 5, 10, 1, 2],\n",
    "              [500, 700, 750, 600, 1450, 800, 1500, 2000, 450, 1000],\n",
    "              [1, 1, 2, 1, 2, 1, 3, 3, 1, 2]])"
   ]
  },
  {
   "cell_type": "code",
   "execution_count": 6,
   "id": "be6b2c25",
   "metadata": {},
   "outputs": [],
   "source": [
    "y = [45, 55, 50, 55, 60, 35, 75, 80, 50, 60]"
   ]
  },
  {
   "cell_type": "code",
   "execution_count": 7,
   "id": "18ca7e63",
   "metadata": {},
   "outputs": [
    {
     "data": {
      "text/plain": [
       "(0, 10)"
      ]
     },
     "execution_count": 7,
     "metadata": {},
     "output_type": "execute_result"
    }
   ],
   "source": [
    "X[1].min(), X[1].max()"
   ]
  },
  {
   "cell_type": "code",
   "execution_count": 8,
   "id": "6bf75a69",
   "metadata": {},
   "outputs": [
    {
     "data": {
      "text/plain": [
       "(450, 2000)"
      ]
     },
     "execution_count": 8,
     "metadata": {},
     "output_type": "execute_result"
    }
   ],
   "source": [
    "X[2].min(), X[2].max()"
   ]
  },
  {
   "cell_type": "code",
   "execution_count": 9,
   "id": "7963ea8f",
   "metadata": {},
   "outputs": [
    {
     "data": {
      "text/plain": [
       "array([[1.00e+00, 1.00e+00, 1.00e+00, 1.00e+00, 1.00e+00, 1.00e+00,\n",
       "        1.00e+00, 1.00e+00, 1.00e+00, 1.00e+00],\n",
       "       [1.00e+00, 1.00e+00, 2.00e+00, 5.00e+00, 3.00e+00, 0.00e+00,\n",
       "        5.00e+00, 1.00e+01, 1.00e+00, 2.00e+00],\n",
       "       [5.00e+02, 7.00e+02, 7.50e+02, 6.00e+02, 1.45e+03, 8.00e+02,\n",
       "        1.50e+03, 2.00e+03, 4.50e+02, 1.00e+03],\n",
       "       [1.00e+00, 1.00e+00, 2.00e+00, 1.00e+00, 2.00e+00, 1.00e+00,\n",
       "        3.00e+00, 3.00e+00, 1.00e+00, 2.00e+00]])"
      ]
     },
     "execution_count": 9,
     "metadata": {},
     "output_type": "execute_result"
    }
   ],
   "source": [
    "X_norm = X.copy()\n",
    "X_norm = X_norm.astype(np.float64)\n",
    "X_norm"
   ]
  },
  {
   "cell_type": "code",
   "execution_count": 10,
   "id": "ffc48d1f",
   "metadata": {},
   "outputs": [
    {
     "data": {
      "text/plain": [
       "array([[1.00e+00, 1.00e+00, 1.00e+00, 1.00e+00, 1.00e+00, 1.00e+00,\n",
       "        1.00e+00, 1.00e+00, 1.00e+00, 1.00e+00],\n",
       "       [1.00e-01, 1.00e-01, 2.00e-01, 5.00e-01, 3.00e-01, 0.00e+00,\n",
       "        5.00e-01, 1.00e+00, 1.00e-01, 2.00e-01],\n",
       "       [5.00e+02, 7.00e+02, 7.50e+02, 6.00e+02, 1.45e+03, 8.00e+02,\n",
       "        1.50e+03, 2.00e+03, 4.50e+02, 1.00e+03],\n",
       "       [1.00e+00, 1.00e+00, 2.00e+00, 1.00e+00, 2.00e+00, 1.00e+00,\n",
       "        3.00e+00, 3.00e+00, 1.00e+00, 2.00e+00]])"
      ]
     },
     "execution_count": 10,
     "metadata": {},
     "output_type": "execute_result"
    }
   ],
   "source": [
    "X_norm[1] = (X[1] - X[1].min()) / (X[1].max() - X[1].min())\n",
    "X_norm"
   ]
  },
  {
   "cell_type": "code",
   "execution_count": 11,
   "id": "fbe629e5",
   "metadata": {},
   "outputs": [
    {
     "data": {
      "text/plain": [
       "array([[1.        , 1.        , 1.        , 1.        , 1.        ,\n",
       "        1.        , 1.        , 1.        , 1.        , 1.        ],\n",
       "       [0.1       , 0.1       , 0.2       , 0.5       , 0.3       ,\n",
       "        0.        , 0.5       , 1.        , 0.1       , 0.2       ],\n",
       "       [0.03225806, 0.16129032, 0.19354839, 0.09677419, 0.64516129,\n",
       "        0.22580645, 0.67741935, 1.        , 0.        , 0.35483871],\n",
       "       [1.        , 1.        , 2.        , 1.        , 2.        ,\n",
       "        1.        , 3.        , 3.        , 1.        , 2.        ]])"
      ]
     },
     "execution_count": 11,
     "metadata": {},
     "output_type": "execute_result"
    }
   ],
   "source": [
    "X_norm[2] = (X[2] - X[2].min()) / (X[2].max() - X[2].min())\n",
    "X_norm"
   ]
  },
  {
   "cell_type": "code",
   "execution_count": 12,
   "id": "a1c6d6a6",
   "metadata": {},
   "outputs": [
    {
     "data": {
      "image/png": "[encoded data removed]",
      "text/plain": [
       "<Figure size 432x288 with 1 Axes>"
      ]
     },
     "metadata": {
      "needs_background": "light"
     },
     "output_type": "display_data"
    }
   ],
   "source": [
    "plt.hist(X[1])\n",
    "plt.show()"
   ]
  },
  {
   "cell_type": "code",
   "execution_count": 13,
   "id": "83d0bd09",
   "metadata": {},
   "outputs": [
    {
     "data": {
      "image/png": "[encoded data removed]",
      "text/plain": [
       "<Figure size 432x288 with 1 Axes>"
      ]
     },
     "metadata": {
      "needs_background": "light"
     },
     "output_type": "display_data"
    }
   ],
   "source": [
    "plt.hist(X[2])\n",
    "plt.show()"
   ]
  },
  {
   "cell_type": "code",
   "execution_count": 14,
   "id": "258b6a40",
   "metadata": {},
   "outputs": [
    {
     "name": "stdout",
     "output_type": "stream",
     "text": [
      "3.0 2.8284271247461903\n"
     ]
    }
   ],
   "source": [
    "X_st = X.copy().astype(np.float64)\n",
    "X1_mean = X[1].mean()\n",
    "X1_std = X[1].std()\n",
    "print(X1_mean, X1_std)"
   ]
  },
  {
   "cell_type": "code",
   "execution_count": 15,
   "id": "7efca1c1",
   "metadata": {},
   "outputs": [
    {
     "data": {
      "text/plain": [
       "array([[ 1.00000000e+00,  1.00000000e+00,  1.00000000e+00,\n",
       "         1.00000000e+00,  1.00000000e+00,  1.00000000e+00,\n",
       "         1.00000000e+00,  1.00000000e+00,  1.00000000e+00,\n",
       "         1.00000000e+00],\n",
       "       [-7.07106781e-01, -7.07106781e-01, -3.53553391e-01,\n",
       "         7.07106781e-01,  0.00000000e+00, -1.06066017e+00,\n",
       "         7.07106781e-01,  2.47487373e+00, -7.07106781e-01,\n",
       "        -3.53553391e-01],\n",
       "       [ 5.00000000e+02,  7.00000000e+02,  7.50000000e+02,\n",
       "         6.00000000e+02,  1.45000000e+03,  8.00000000e+02,\n",
       "         1.50000000e+03,  2.00000000e+03,  4.50000000e+02,\n",
       "         1.00000000e+03],\n",
       "       [ 1.00000000e+00,  1.00000000e+00,  2.00000000e+00,\n",
       "         1.00000000e+00,  2.00000000e+00,  1.00000000e+00,\n",
       "         3.00000000e+00,  3.00000000e+00,  1.00000000e+00,\n",
       "         2.00000000e+00]])"
      ]
     },
     "execution_count": 15,
     "metadata": {},
     "output_type": "execute_result"
    }
   ],
   "source": [
    "X_st[1] = (X[1] - X1_mean) / X1_std\n",
    "X_st"
   ]
  },
  {
   "cell_type": "code",
   "execution_count": 16,
   "id": "ce482100",
   "metadata": {},
   "outputs": [
    {
     "data": {
      "image/png": "[encoded data removed]",
      "text/plain": [
       "<Figure size 432x288 with 1 Axes>"
      ]
     },
     "metadata": {
      "needs_background": "light"
     },
     "output_type": "display_data"
    }
   ],
   "source": [
    "plt.hist(X_st[1])\n",
    "plt.show()"
   ]
  },
  {
   "cell_type": "code",
   "execution_count": 17,
   "id": "d81da941",
   "metadata": {},
   "outputs": [],
   "source": [
    "def calc_std_fit(x):\n",
    "    res = (x - x.mean()) / x.std()\n",
    "    return res"
   ]
  },
  {
   "cell_type": "code",
   "execution_count": 18,
   "id": "bf3dbff7",
   "metadata": {},
   "outputs": [],
   "source": [
    "X_st[2] = calc_std_fit(X[2])"
   ]
  },
  {
   "cell_type": "code",
   "execution_count": 19,
   "id": "86c17067",
   "metadata": {},
   "outputs": [
    {
     "data": {
      "text/plain": [
       "array([[ 1.        ,  1.        ,  1.        ,  1.        ,  1.        ,\n",
       "         1.        ,  1.        ,  1.        ,  1.        ,  1.        ],\n",
       "       [-0.70710678, -0.70710678, -0.35355339,  0.70710678,  0.        ,\n",
       "        -1.06066017,  0.70710678,  2.47487373, -0.70710678, -0.35355339],\n",
       "       [-0.97958969, -0.56713087, -0.46401617, -0.77336028,  0.97958969,\n",
       "        -0.36090146,  1.08270439,  2.11385144, -1.08270439,  0.05155735],\n",
       "       [-0.89625816, -0.89625816,  0.38411064, -0.89625816,  0.38411064,\n",
       "        -0.89625816,  1.66447944,  1.66447944, -0.89625816,  0.38411064]])"
      ]
     },
     "execution_count": 19,
     "metadata": {},
     "output_type": "execute_result"
    }
   ],
   "source": [
    "X_st[3] = calc_std_fit(X[3])\n",
    "X_st"
   ]
  },
  {
   "cell_type": "markdown",
   "id": "69b31e71",
   "metadata": {},
   "source": [
    "SGD"
   ]
  },
  {
   "cell_type": "code",
   "execution_count": 20,
   "id": "558bf3cf",
   "metadata": {},
   "outputs": [],
   "source": [
    "def calc_mse(y, y_pred):\n",
    "    err = np.mean((y - y_pred)**2)\n",
    "    return err"
   ]
  },
  {
   "cell_type": "code",
   "execution_count": 21,
   "id": "47088b0b",
   "metadata": {},
   "outputs": [],
   "source": [
    "def eval_model(X, y, iterations, alpha=1e-4):\n",
    "    W = np.random.randn(X.shape[0])\n",
    "    n = X.shape[1]\n",
    "    for i in range(1, iterations+1):\n",
    "        y_pred = np.dot(W, X)\n",
    "        err = calc_mse(y, y_pred)\n",
    "        W -= (alpha * (1/n * 2 * np.dot((y_pred - y), X.T)))\n",
    "        if i % (iterations / 10) == 0:\n",
    "            print(i, W, err)\n",
    "    return W"
   ]
  },
  {
   "cell_type": "code",
   "execution_count": 22,
   "id": "987b5a45",
   "metadata": {},
   "outputs": [
    {
     "name": "stdout",
     "output_type": "stream",
     "text": [
      "100 [48.92412492  4.50267666  3.64053614  4.12798708] 87.5531127665522\n",
      "200 [55.49529081  5.12005914  2.83813843  4.4311077 ] 27.706520254038583\n",
      "300 [56.36675591  5.48561619  2.20166456  4.7341017 ] 26.036285485363464\n",
      "400 [56.48232923  5.71772348  1.7034047   5.02255044] 25.629348515766708\n",
      "500 [56.49765651  5.8706224   1.30864408  5.28061248] 25.3813299148331\n",
      "600 [56.49968921  5.97522561  0.99314172  5.50362861] 25.219969348568366\n",
      "700 [56.49995878  6.04943896  0.73942753  5.6924059 ] 25.11373613384594\n",
      "800 [56.49999453  6.10383442  0.53452456  5.85014365] 25.043445042372927\n",
      "900 [56.49999928  6.14480924  0.36855199  5.98085227] 24.996828340997343\n",
      "1000 [56.4999999   6.1763528   0.23384024  6.08857479] 24.965879559166243\n"
     ]
    },
    {
     "data": {
      "text/plain": [
       "array([56.4999999 ,  6.1763528 ,  0.23384024,  6.08857479])"
      ]
     },
     "execution_count": 22,
     "metadata": {},
     "output_type": "execute_result"
    }
   ],
   "source": [
    "eval_model(X_st, y, iterations=1000, alpha=1e-2)"
   ]
  },
  {
   "cell_type": "code",
   "execution_count": 23,
   "id": "8ce173b1",
   "metadata": {},
   "outputs": [],
   "source": [
    "def eval_sgd_model(X, y, iterations, qty_in_batch, alpha=1e-4):\n",
    "    W = np.random.randn(X.shape[0])\n",
    "    n = X.shape[1]\n",
    "    n_batch = n // qty_in_batch\n",
    "    \n",
    "    if n % qty_in_batch != 0:\n",
    "        n_batch += 1\n",
    "        \n",
    "    for i in range(1, iterations+1):\n",
    "        for b in range(n_batch):\n",
    "            start_ = qty_in_batch*b\n",
    "            end_ = qty_in_batch*(b+1)\n",
    "#             print(b, n_batch, start_, end_)\n",
    "            X_tmp = X[:, start_ : end_]\n",
    "            y_tmp = y[start_ : end_]\n",
    "\n",
    "            y_pred_tmp = np.dot(W, X_tmp)\n",
    "            err = calc_mse(y_tmp, y_pred_tmp)\n",
    "\n",
    "            W -= (alpha * (1/n * 2 * np.dot((y_pred_tmp - y_tmp), X_tmp.T)))\n",
    "        \n",
    "        if i % (iterations / 10) == 0:\n",
    "            print(i, W, err)\n",
    "    return W"
   ]
  },
  {
   "cell_type": "code",
   "execution_count": 24,
   "id": "d9ad501e",
   "metadata": {},
   "outputs": [
    {
     "name": "stdout",
     "output_type": "stream",
     "text": [
      "500 [56.50803424  6.048088    0.74010266  5.70643502] 12.736296909554621\n",
      "1000 [5.65105079e+01 6.22940426e+00 2.90516991e-02 6.26119749e+00] 11.809512112027436\n",
      "1500 [56.51057949  6.28335841 -0.22317485  6.46789163] 11.475800440441294\n",
      "2000 [56.51060563  6.30219036 -0.31372795  6.54261209] 11.356179514418177\n",
      "2500 [56.51061505  6.30893536 -0.346294    6.56951056] 11.313262758847971\n",
      "3000 [56.51061844  6.31136028 -0.35800877  6.57918792] 11.297841913182776\n",
      "3500 [56.51061966  6.31223254 -0.362223    6.58266929] 11.292296922744153\n",
      "4000 [56.5106201   6.31254632 -0.36373901  6.58392167] 11.29030250663029\n",
      "4500 [56.51062026  6.31265919 -0.36428438  6.5843722 ] 11.289585082073007\n",
      "5000 [56.51062032  6.3126998  -0.36448057  6.58453427] 11.289327002711108\n"
     ]
    },
    {
     "data": {
      "text/plain": [
       "array([56.51062032,  6.3126998 , -0.36448057,  6.58453427])"
      ]
     },
     "execution_count": 24,
     "metadata": {},
     "output_type": "execute_result"
    }
   ],
   "source": [
    "eval_sgd_model(X_st, y, iterations=5000, qty_in_batch=4, alpha=1e-2)"
   ]
  },
  {
   "cell_type": "markdown",
   "id": "7a4eff7d",
   "metadata": {},
   "source": [
    "1. Напишите функцию наподобие gradient_descent_reg_l2, но для применения L1-регуляризации."
   ]
  },
  {
   "cell_type": "code",
   "execution_count": 29,
   "id": "ecd9cf7e",
   "metadata": {},
   "outputs": [],
   "source": [
    "def eval_model_reg1(X, y, iterations, alpha=1e-4, lambda_=1e-8):\n",
    "    np.random.seed(42)\n",
    "    W = np.random.randn(X.shape[0])\n",
    "    n = X.shape[1]\n",
    "    for i in range(1, iterations+1):\n",
    "        y_pred = np.dot(W, X)\n",
    "        err = calc_mse(y, y_pred)\n",
    "        if 0 in W:\n",
    "            break\n",
    "        else:\n",
    "            W -= alpha * (1/n * 2 * np.dot((y_pred - y), X.T) + lambda_ * W / abs(W)) \n",
    "        if i % (iterations / 10) == 0:\n",
    "            print(W, err)\n",
    "    return W"
   ]
  },
  {
   "cell_type": "code",
   "execution_count": 30,
   "id": "461cf5ad",
   "metadata": {},
   "outputs": [
    {
     "name": "stdout",
     "output_type": "stream",
     "text": [
      "[5.82663819 0.69005193 1.39342371 2.29869073] 2652.6219370376966\n",
      "[10.64930466  1.34423559  1.95553601  2.89477161] 2164.8075526128023\n",
      "[15.01299009  1.86375987  2.37630985  3.352604  ] 1770.3262432420136\n",
      "[18.96137646  2.27906593  2.68833685  3.7040428 ] 1450.2612195869815\n",
      "[22.53398846  2.61363197  2.91673679  3.97363776] 1189.9356414024817\n",
      "[25.76658915  2.88556821  3.08086966  4.18030744] 977.815056728532\n",
      "[28.69153795  3.10884654  3.19565546  4.33862964] 804.7422708245024\n",
      "[31.33811461  3.2942483   3.27259158  4.45983612] 663.3902304928009\n",
      "[33.73281224  3.45009503  3.32053709  4.55257946] 547.8612219527605\n",
      "[35.8996026   3.58281175  3.34631736  4.62352414] 453.38673525959274\n"
     ]
    },
    {
     "data": {
      "text/plain": [
       "array([35.8996026 ,  3.58281175,  3.34631736,  4.62352414])"
      ]
     },
     "execution_count": 30,
     "metadata": {},
     "output_type": "execute_result"
    }
   ],
   "source": [
    "eval_model_reg1(X_st, y, iterations=5000, alpha=1e-4, lambda_=1e-6)"
   ]
  },
  {
   "cell_type": "markdown",
   "id": "b3dc2275",
   "metadata": {},
   "source": [
    "2. *Можно ли к одному и тому же признаку применить сразу и нормализацию, и стандартизацию?"
   ]
  },
  {
   "cell_type": "markdown",
   "id": "8f22e854",
   "metadata": {},
   "source": [
    "На выходе получим результат только от конечной функции, а значит применение сразу нормализацию и стандартизацию не имеет смысла"
   ]
  },
  {
   "cell_type": "code",
   "execution_count": null,
   "id": "30cc2e6d",
   "metadata": {},
   "outputs": [],
   "source": []
  }
 ],
 "metadata": {
  "kernelspec": {
   "display_name": "Python 3 (ipykernel)",
   "language": "python",
   "name": "python3"
  },
  "language_info": {
   "codemirror_mode": {
    "name": "ipython",
    "version": 3
   },
   "file_extension": ".py",
   "mimetype": "text/x-python",
   "name": "python",
   "nbconvert_exporter": "python",
   "pygments_lexer": "ipython3",
   "version": "3.9.12"
  }
 },
 "nbformat": 4,
 "nbformat_minor": 5
}
