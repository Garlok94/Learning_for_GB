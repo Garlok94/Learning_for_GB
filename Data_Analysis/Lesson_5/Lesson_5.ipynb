{
 "cells": [
  {
   "cell_type": "code",
   "execution_count": 3,
   "id": "36cbb51c",
   "metadata": {},
   "outputs": [],
   "source": [
    "import matplotlib.pyplot as plt\n",
    "import matplotlib\n",
    "%matplotlib inline\n",
    "import random\n",
    "\n",
    "\n",
    "from matplotlib.colors import ListedColormap\n",
    "from sklearn import datasets\n",
    "\n",
    "import numpy as np"
   ]
  },
  {
   "cell_type": "markdown",
   "id": "6bb2685c",
   "metadata": {},
   "source": [
    "№1 Сформировать с помощью sklearn.make_classification датасет из 100 объектов с двумя признаками, обучить случайный лес из 1, 3, 10 и 50 деревьев и визуализировать их разделяющие гиперплоскости на графиках (по подобию визуализации деревьев из предыдущего урока, необходимо только заменить вызов функции predict на tree_vote)."
   ]
  },
  {
   "cell_type": "code",
   "execution_count": 4,
   "id": "21b0cb59",
   "metadata": {},
   "outputs": [],
   "source": [
    "classification_data, classification_labels = datasets.make_classification(n_samples=100,\n",
    "                                                      n_features = 2, n_informative = 2, \n",
    "                                                      n_classes = 2, n_redundant=0, \n",
    "                                                      n_clusters_per_class=1, random_state=23)"
   ]
  },
  {
   "cell_type": "code",
   "execution_count": 5,
   "id": "1da2f252",
   "metadata": {},
   "outputs": [
    {
     "data": {
      "text/plain": [
       "<matplotlib.collections.PathCollection at 0x7fa5d558ea30>"
      ]
     },
     "execution_count": 5,
     "metadata": {},
     "output_type": "execute_result"
    },
    {
     "data": {
      "image/png": "[encoded data removed]",
      "text/plain": [
       "<Figure size 576x576 with 1 Axes>"
      ]
     },
     "metadata": {
      "needs_background": "light"
     },
     "output_type": "display_data"
    }
   ],
   "source": [
    "colors = ListedColormap(['red', 'blue'])\n",
    "light_colors = ListedColormap(['lightcoral', 'lightblue'])\n",
    "\n",
    "plt.figure(figsize=(8,8))\n",
    "plt.scatter(list(map(lambda x: x[0], classification_data)), list(map(lambda x: x[1], classification_data)), \n",
    "              c=classification_labels, cmap=colors)"
   ]
  },
  {
   "cell_type": "code",
   "execution_count": 6,
   "id": "fd6a4c5e",
   "metadata": {},
   "outputs": [],
   "source": [
    "random.seed(42)\n",
    "\n",
    "def get_bootstrap(data, labels, N):\n",
    "    n_samples = data.shape[0]\n",
    "    bootstrap = []\n",
    "    \n",
    "    for i in range(N):\n",
    "        b_data = np.zeros(data.shape)\n",
    "        b_labels = np.zeros(labels.shape)\n",
    "        \n",
    "        for j in range(n_samples):\n",
    "            sample_index = random.randint(0, n_samples-1)\n",
    "            b_data[j] = data[sample_index]\n",
    "            b_labels[j] = labels[sample_index]\n",
    "        bootstrap.append((b_data, b_labels))\n",
    "        \n",
    "    return bootstrap"
   ]
  },
  {
   "cell_type": "code",
   "execution_count": 7,
   "id": "2a983489",
   "metadata": {},
   "outputs": [],
   "source": [
    "def get_subsample(len_sample):\n",
    "    # будем сохранять не сами признаки, а их индексы\n",
    "    sample_indexes = [i for i in range(len_sample)]\n",
    "    \n",
    "    len_subsample = int(np.sqrt(len_sample))\n",
    "    subsample = []\n",
    "    \n",
    "    random.shuffle(sample_indexes)\n",
    "    for _ in range(len_subsample):\n",
    "        subsample.append(sample_indexes.pop())\n",
    "        \n",
    "    return subsample"
   ]
  },
  {
   "cell_type": "code",
   "execution_count": 8,
   "id": "a4f6f35a",
   "metadata": {},
   "outputs": [],
   "source": [
    "class Node:\n",
    "    \n",
    "    def __init__(self, index, t, true_branch, false_branch):\n",
    "        self.index = index  # индекс признака, по которому ведется сравнение с порогом в этом узле\n",
    "        self.t = t  # значение порога\n",
    "        self.true_branch = true_branch  # поддерево, удовлетворяющее условию в узле\n",
    "        self.false_branch = false_branch  # поддерево, не удовлетворяющее условию в узле"
   ]
  },
  {
   "cell_type": "code",
   "execution_count": 9,
   "id": "5568ab9b",
   "metadata": {},
   "outputs": [],
   "source": [
    "class Leaf:\n",
    "    \n",
    "    def __init__(self, data, labels):\n",
    "        self.data = data\n",
    "        self.labels = labels\n",
    "        self.prediction = self.predict()\n",
    "        \n",
    "    def predict(self):\n",
    "        # подсчет количества объектов разных классов\n",
    "        classes = {}  # сформируем словарь \"класс: количество объектов\"\n",
    "        for label in self.labels:\n",
    "            if label not in classes:\n",
    "                classes[label] = 0\n",
    "            classes[label] += 1\n",
    "        #  найдем класс, количество объектов которого будет максимальным в этом листе и вернем его    \n",
    "        prediction = max(classes, key=classes.get)\n",
    "        return prediction       "
   ]
  },
  {
   "cell_type": "code",
   "execution_count": 10,
   "id": "ff28ea03",
   "metadata": {},
   "outputs": [],
   "source": [
    "def gini(labels):\n",
    "    #  подсчет количества объектов разных классов\n",
    "    classes = {}\n",
    "    for label in labels:\n",
    "        if label not in classes:\n",
    "            classes[label] = 0\n",
    "        classes[label] += 1\n",
    "    \n",
    "    #  расчет критерия\n",
    "    impurity = 1\n",
    "    for label in classes:\n",
    "        p = classes[label] / len(labels)\n",
    "        impurity -= p ** 2\n",
    "        \n",
    "    return impurity"
   ]
  },
  {
   "cell_type": "code",
   "execution_count": 11,
   "id": "f58784dd",
   "metadata": {},
   "outputs": [],
   "source": [
    "def quality(left_labels, right_labels, current_gini):\n",
    "\n",
    "    # доля выбоки, ушедшая в левое поддерево\n",
    "    p = float(left_labels.shape[0]) / (left_labels.shape[0] + right_labels.shape[0])\n",
    "    \n",
    "    return current_gini - p * gini(left_labels) - (1 - p) * gini(right_labels)"
   ]
  },
  {
   "cell_type": "code",
   "execution_count": 12,
   "id": "93b4ebec",
   "metadata": {},
   "outputs": [],
   "source": [
    "def split(data, labels, index, t):\n",
    "    \n",
    "    left = np.where(data[:, index] <= t)\n",
    "    right = np.where(data[:, index] > t)\n",
    "        \n",
    "    true_data = data[left]\n",
    "    false_data = data[right]\n",
    "    true_labels = labels[left]\n",
    "    false_labels = labels[right]\n",
    "        \n",
    "    return true_data, false_data, true_labels, false_labels"
   ]
  },
  {
   "cell_type": "code",
   "execution_count": 13,
   "id": "ae8ddf2f",
   "metadata": {},
   "outputs": [],
   "source": [
    "def find_best_split(data, labels):\n",
    "    \n",
    "    #  обозначим минимальное количество объектов в узле\n",
    "    min_leaf = 1\n",
    "\n",
    "    current_gini = gini(labels)\n",
    "\n",
    "    best_quality = 0\n",
    "    best_t = None\n",
    "    best_index = None\n",
    "    \n",
    "    n_features = data.shape[1]\n",
    "    \n",
    "    # выбор индекса из подвыборки длиной sqrt(n_features)\n",
    "    subsample = get_subsample(n_features)\n",
    "    \n",
    "    for index in subsample:\n",
    "        t_values = [row[index] for row in data]\n",
    "        \n",
    "        for t in t_values:\n",
    "            true_data, false_data, true_labels, false_labels = split(data, labels, index, t)\n",
    "            #  пропускаем разбиения, в которых в узле остается менее 5 объектов\n",
    "            if len(true_data) < min_leaf or len(false_data) < min_leaf:\n",
    "                continue\n",
    "            \n",
    "            current_quality = quality(true_labels, false_labels, current_gini)\n",
    "            \n",
    "            #  выбираем порог, на котором получается максимальный прирост качества\n",
    "            if current_quality > best_quality:\n",
    "                best_quality, best_t, best_index = current_quality, t, index\n",
    "\n",
    "    return best_quality, best_t, best_index"
   ]
  },
  {
   "cell_type": "code",
   "execution_count": 14,
   "id": "a12cd826",
   "metadata": {},
   "outputs": [],
   "source": [
    "def build_tree(data, labels):\n",
    "\n",
    "    quality, t, index = find_best_split(data, labels)\n",
    "\n",
    "    #  Базовый случай - прекращаем рекурсию, когда нет прироста в качества\n",
    "    if quality == 0:\n",
    "        return Leaf(data, labels)\n",
    "\n",
    "    true_data, false_data, true_labels, false_labels = split(data, labels, index, t)\n",
    "\n",
    "    # Рекурсивно строим два поддерева\n",
    "    true_branch = build_tree(true_data, true_labels)\n",
    "    false_branch = build_tree(false_data, false_labels)\n",
    "\n",
    "    # Возвращаем класс узла со всеми поддеревьями, то есть целого дерева\n",
    "    return Node(index, t, true_branch, false_branch)"
   ]
  },
  {
   "cell_type": "code",
   "execution_count": 15,
   "id": "d479acbd",
   "metadata": {},
   "outputs": [],
   "source": [
    "def random_forest(data, labels, n_trees):\n",
    "    forest = []\n",
    "    bootstrap = get_bootstrap(data, labels, n_trees)\n",
    "    \n",
    "    for b_data, b_labels in bootstrap:\n",
    "        forest.append(build_tree(b_data, b_labels))\n",
    "        \n",
    "    return forest"
   ]
  },
  {
   "cell_type": "code",
   "execution_count": 16,
   "id": "0bcdbbdf",
   "metadata": {},
   "outputs": [],
   "source": [
    "def classify_object(obj, node):\n",
    "\n",
    "    #  Останавливаем рекурсию, если достигли листа\n",
    "    if isinstance(node, Leaf):\n",
    "        answer = node.prediction\n",
    "        return answer\n",
    "\n",
    "    if obj[node.index] <= node.t:\n",
    "        return classify_object(obj, node.true_branch)\n",
    "    else:\n",
    "        return classify_object(obj, node.false_branch)"
   ]
  },
  {
   "cell_type": "code",
   "execution_count": 17,
   "id": "0b16f4ae",
   "metadata": {},
   "outputs": [],
   "source": [
    "def predict(data, tree):\n",
    "    \n",
    "    classes = []\n",
    "    for obj in data:\n",
    "        prediction = classify_object(obj, tree)\n",
    "        classes.append(prediction)\n",
    "    return classes"
   ]
  },
  {
   "cell_type": "code",
   "execution_count": 18,
   "id": "2d44ef9a",
   "metadata": {},
   "outputs": [],
   "source": [
    "def tree_vote(forest, data):\n",
    "\n",
    "    # добавим предсказания всех деревьев в список\n",
    "    predictions = []\n",
    "    for tree in forest:\n",
    "        predictions.append(predict(data, tree))\n",
    "    \n",
    "    # сформируем список с предсказаниями для каждого объекта\n",
    "    predictions_per_object = list(zip(*predictions))\n",
    "    \n",
    "    # выберем в качестве итогового предсказания для каждого объекта то,\n",
    "    # за которое проголосовало большинство деревьев\n",
    "    voted_predictions = []\n",
    "    for obj in predictions_per_object:\n",
    "        voted_predictions.append(max(set(obj), key=obj.count))\n",
    "        \n",
    "    return voted_predictions"
   ]
  },
  {
   "cell_type": "code",
   "execution_count": 19,
   "id": "55667f06",
   "metadata": {},
   "outputs": [],
   "source": [
    "def plot_forest(forest, train_data, test_data):\n",
    "    \n",
    "    plt.figure(figsize = (16, 7))\n",
    "\n",
    "    # график обучающей выборки\n",
    "    plt.subplot(1,2,1)\n",
    "    xx, yy = get_meshgrid(train_data)\n",
    "    mesh_predictions = np.array(tree_vote(forest, np.c_[xx.ravel(), yy.ravel()])).reshape(xx.shape)\n",
    "    plt.pcolormesh(xx, yy, mesh_predictions, cmap = light_colors)\n",
    "    plt.scatter(train_data[:, 0], train_data[:, 1], c = train_labels, cmap = colors)\n",
    "    plt.title(f'Train accuracy={train_accuracy:.2f}')\n",
    "\n",
    "    # график тестовой выборки\n",
    "    plt.subplot(1,2,2)\n",
    "    plt.pcolormesh(xx, yy, mesh_predictions, cmap = light_colors)\n",
    "    plt.scatter(test_data[:, 0], test_data[:, 1], c = test_labels, cmap = colors)\n",
    "    plt.title(f'Test accuracy={test_accuracy:.2f}')"
   ]
  },
  {
   "cell_type": "code",
   "execution_count": 20,
   "id": "d1119760",
   "metadata": {},
   "outputs": [],
   "source": [
    "from sklearn import model_selection\n",
    "\n",
    "train_data, test_data, train_labels, test_labels = model_selection.train_test_split(classification_data, \n",
    "                                                                                     classification_labels, \n",
    "                                                                                     test_size = 0.3,\n",
    "                                                                                     random_state = 1)"
   ]
  },
  {
   "cell_type": "code",
   "execution_count": 21,
   "id": "a5f057b6",
   "metadata": {},
   "outputs": [],
   "source": [
    "def accuracy_metric(actual, predicted):\n",
    "    correct = 0\n",
    "    for i in range(len(actual)):\n",
    "        if actual[i] == predicted[i]:\n",
    "            correct += 1\n",
    "    return correct / float(len(actual)) * 100.0"
   ]
  },
  {
   "cell_type": "code",
   "execution_count": 22,
   "id": "6fb90ddb",
   "metadata": {},
   "outputs": [],
   "source": [
    "n_trees = 1\n",
    "my_forest_1 = random_forest(train_data, train_labels, n_trees)"
   ]
  },
  {
   "cell_type": "code",
   "execution_count": 23,
   "id": "8df5979d",
   "metadata": {},
   "outputs": [],
   "source": [
    "train_answers = tree_vote(my_forest_1, train_data)"
   ]
  },
  {
   "cell_type": "code",
   "execution_count": 24,
   "id": "4c2e9edf",
   "metadata": {},
   "outputs": [],
   "source": [
    "test_answers = tree_vote(my_forest_1, test_data)"
   ]
  },
  {
   "cell_type": "code",
   "execution_count": 25,
   "id": "bf84fd28",
   "metadata": {},
   "outputs": [
    {
     "name": "stdout",
     "output_type": "stream",
     "text": [
      "Точность случайного леса из 1 деревьев на обучающей выборке: 97.143\n"
     ]
    }
   ],
   "source": [
    "train_accuracy = accuracy_metric(train_labels, train_answers)\n",
    "print(f'Точность случайного леса из {n_trees} деревьев на обучающей выборке: {train_accuracy:.3f}')"
   ]
  },
  {
   "cell_type": "code",
   "execution_count": 26,
   "id": "8b9966f6",
   "metadata": {},
   "outputs": [
    {
     "name": "stdout",
     "output_type": "stream",
     "text": [
      "Точность случайного леса из 1 деревьев на тестовой выборке: 80.000\n"
     ]
    }
   ],
   "source": [
    "test_accuracy = accuracy_metric(test_labels, test_answers)\n",
    "print(f'Точность случайного леса из {n_trees} деревьев на тестовой выборке: {test_accuracy:.3f}')"
   ]
  },
  {
   "cell_type": "code",
   "execution_count": 52,
   "id": "91b55832",
   "metadata": {},
   "outputs": [],
   "source": [
    "# plot_forest(my_forest_1, train_data, test_data)"
   ]
  },
  {
   "cell_type": "code",
   "execution_count": null,
   "id": "6e863ba9",
   "metadata": {},
   "outputs": [],
   "source": [
    "n_trees = 3\n",
    "my_forest_3 = random_forest(train_data, train_labels, n_trees)"
   ]
  },
  {
   "cell_type": "code",
   "execution_count": null,
   "id": "56a51d48",
   "metadata": {},
   "outputs": [],
   "source": [
    "train_answers = tree_vote(my_forest_3, train_data)"
   ]
  },
  {
   "cell_type": "code",
   "execution_count": null,
   "id": "c0bec46c",
   "metadata": {},
   "outputs": [],
   "source": [
    "test_answers = tree_vote(my_forest_3, test_data)"
   ]
  },
  {
   "cell_type": "code",
   "execution_count": null,
   "id": "ebf80103",
   "metadata": {},
   "outputs": [],
   "source": [
    "train_accuracy = accuracy_metric(train_labels, train_answers)\n",
    "print(f'Точность случайного леса из {n_trees} деревьев на обучающей выборке: {train_accuracy:.3f}')"
   ]
  },
  {
   "cell_type": "code",
   "execution_count": 28,
   "id": "f6938f97",
   "metadata": {},
   "outputs": [
    {
     "name": "stdout",
     "output_type": "stream",
     "text": [
      "Точность случайного леса из 1 деревьев на тестовой выборке: 80.000\n"
     ]
    }
   ],
   "source": [
    "test_accuracy = accuracy_metric(test_labels, test_answers)\n",
    "print(f'Точность случайного леса из {n_trees} деревьев на тестовой выборке: {test_accuracy:.3f}')"
   ]
  },
  {
   "cell_type": "code",
   "execution_count": 35,
   "id": "ac45681f",
   "metadata": {},
   "outputs": [],
   "source": [
    "# plot_forest(my_forest_3, train_data, test_data)"
   ]
  },
  {
   "cell_type": "code",
   "execution_count": 36,
   "id": "c7b0dfed",
   "metadata": {},
   "outputs": [],
   "source": [
    "n_trees = 10\n",
    "my_forest_10 = random_forest(train_data, train_labels, n_trees)"
   ]
  },
  {
   "cell_type": "code",
   "execution_count": 37,
   "id": "c92a2d3b",
   "metadata": {},
   "outputs": [],
   "source": [
    "train_answers = tree_vote(my_forest_10, train_data)"
   ]
  },
  {
   "cell_type": "code",
   "execution_count": 38,
   "id": "58ff927f",
   "metadata": {},
   "outputs": [],
   "source": [
    "test_answers = tree_vote(my_forest_10, test_data)"
   ]
  },
  {
   "cell_type": "code",
   "execution_count": 39,
   "id": "26159617",
   "metadata": {},
   "outputs": [
    {
     "name": "stdout",
     "output_type": "stream",
     "text": [
      "Точность случайного леса из 10 деревьев на обучающей выборке: 98.571\n"
     ]
    }
   ],
   "source": [
    "train_accuracy = accuracy_metric(train_labels, train_answers)\n",
    "print(f'Точность случайного леса из {n_trees} деревьев на обучающей выборке: {train_accuracy:.3f}')"
   ]
  },
  {
   "cell_type": "code",
   "execution_count": 40,
   "id": "d1dd88ab",
   "metadata": {},
   "outputs": [
    {
     "name": "stdout",
     "output_type": "stream",
     "text": [
      "Точность случайного леса из 10 деревьев на тестовой выборке: 83.333\n"
     ]
    }
   ],
   "source": [
    "test_accuracy = accuracy_metric(test_labels, test_answers)\n",
    "print(f'Точность случайного леса из {n_trees} деревьев на тестовой выборке: {test_accuracy:.3f}')"
   ]
  },
  {
   "cell_type": "code",
   "execution_count": 43,
   "id": "3c22b8e1",
   "metadata": {},
   "outputs": [],
   "source": [
    "# plot_forest(my_forest_10, train_data, test_data)"
   ]
  },
  {
   "cell_type": "code",
   "execution_count": 44,
   "id": "25deb73a",
   "metadata": {},
   "outputs": [],
   "source": [
    "n_trees = 50\n",
    "my_forest_50 = random_forest(train_data, train_labels, n_trees)"
   ]
  },
  {
   "cell_type": "code",
   "execution_count": 45,
   "id": "3fc0c114",
   "metadata": {},
   "outputs": [],
   "source": [
    "train_answers = tree_vote(my_forest_50, train_data)"
   ]
  },
  {
   "cell_type": "code",
   "execution_count": 46,
   "id": "4e3980ad",
   "metadata": {},
   "outputs": [],
   "source": [
    "test_answers = tree_vote(my_forest_50, test_data)"
   ]
  },
  {
   "cell_type": "code",
   "execution_count": 47,
   "id": "003eb6f9",
   "metadata": {},
   "outputs": [
    {
     "name": "stdout",
     "output_type": "stream",
     "text": [
      "Точность случайного леса из 50 деревьев на обучающей выборке: 100.000\n"
     ]
    }
   ],
   "source": [
    "train_accuracy = accuracy_metric(train_labels, train_answers)\n",
    "print(f'Точность случайного леса из {n_trees} деревьев на обучающей выборке: {train_accuracy:.3f}')"
   ]
  },
  {
   "cell_type": "code",
   "execution_count": 48,
   "id": "11c06429",
   "metadata": {},
   "outputs": [
    {
     "name": "stdout",
     "output_type": "stream",
     "text": [
      "Точность случайного леса из 50 деревьев на тестовой выборке: 86.667\n"
     ]
    }
   ],
   "source": [
    "test_accuracy = accuracy_metric(test_labels, test_answers)\n",
    "print(f'Точность случайного леса из {n_trees} деревьев на тестовой выборке: {test_accuracy:.3f}')"
   ]
  },
  {
   "cell_type": "code",
   "execution_count": 51,
   "id": "ff664659",
   "metadata": {},
   "outputs": [],
   "source": [
    "# plot_forest(my_forest_50, train_data, test_data)"
   ]
  },
  {
   "cell_type": "code",
   "execution_count": 50,
   "id": "60181fd3",
   "metadata": {},
   "outputs": [
    {
     "name": "stdout",
     "output_type": "stream",
     "text": [
      "Точность RFR из 1 деревьев на трейне: 98.571\n",
      "Точность RFR из 1 деревьев на тестe: 80.000\n",
      "Точность RFR из 2 деревьев на трейне: 94.286\n",
      "Точность RFR из 2 деревьев на тестe: 80.000\n",
      "Точность RFR из 3 деревьев на трейне: 98.571\n",
      "Точность RFR из 3 деревьев на тестe: 83.333\n",
      "Точность RFR из 4 деревьев на трейне: 97.143\n",
      "Точность RFR из 4 деревьев на тестe: 86.667\n",
      "Точность RFR из 5 деревьев на трейне: 100.000\n",
      "Точность RFR из 5 деревьев на тестe: 86.667\n",
      "Точность RFR из 6 деревьев на трейне: 98.571\n",
      "Точность RFR из 6 деревьев на тестe: 80.000\n",
      "Точность RFR из 7 деревьев на трейне: 98.571\n",
      "Точность RFR из 7 деревьев на тестe: 86.667\n",
      "Точность RFR из 8 деревьев на трейне: 100.000\n",
      "Точность RFR из 8 деревьев на тестe: 86.667\n",
      "Точность RFR из 9 деревьев на трейне: 100.000\n",
      "Точность RFR из 9 деревьев на тестe: 83.333\n",
      "Точность RFR из 10 деревьев на трейне: 100.000\n",
      "Точность RFR из 10 деревьев на тестe: 86.667\n",
      "Точность RFR из 11 деревьев на трейне: 98.571\n",
      "Точность RFR из 11 деревьев на тестe: 90.000\n",
      "Точность RFR из 12 деревьев на трейне: 98.571\n",
      "Точность RFR из 12 деревьев на тестe: 90.000\n",
      "Точность RFR из 13 деревьев на трейне: 100.000\n",
      "Точность RFR из 13 деревьев на тестe: 86.667\n",
      "Точность RFR из 14 деревьев на трейне: 100.000\n",
      "Точность RFR из 14 деревьев на тестe: 86.667\n",
      "Точность RFR из 15 деревьев на трейне: 100.000\n",
      "Точность RFR из 15 деревьев на тестe: 86.667\n",
      "Точность RFR из 16 деревьев на трейне: 100.000\n",
      "Точность RFR из 16 деревьев на тестe: 86.667\n",
      "Точность RFR из 17 деревьев на трейне: 100.000\n",
      "Точность RFR из 17 деревьев на тестe: 86.667\n",
      "Точность RFR из 18 деревьев на трейне: 100.000\n",
      "Точность RFR из 18 деревьев на тестe: 86.667\n",
      "Точность RFR из 19 деревьев на трейне: 100.000\n",
      "Точность RFR из 19 деревьев на тестe: 83.333\n",
      "Точность RFR из 20 деревьев на трейне: 100.000\n",
      "Точность RFR из 20 деревьев на тестe: 90.000\n",
      "Точность RFR из 21 деревьев на трейне: 100.000\n",
      "Точность RFR из 21 деревьев на тестe: 86.667\n",
      "Точность RFR из 22 деревьев на трейне: 100.000\n",
      "Точность RFR из 22 деревьев на тестe: 86.667\n",
      "Точность RFR из 23 деревьев на трейне: 100.000\n",
      "Точность RFR из 23 деревьев на тестe: 86.667\n",
      "Точность RFR из 24 деревьев на трейне: 100.000\n",
      "Точность RFR из 24 деревьев на тестe: 83.333\n",
      "Точность RFR из 25 деревьев на трейне: 100.000\n",
      "Точность RFR из 25 деревьев на тестe: 86.667\n",
      "Точность RFR из 26 деревьев на трейне: 98.571\n",
      "Точность RFR из 26 деревьев на тестe: 86.667\n",
      "Точность RFR из 27 деревьев на трейне: 100.000\n",
      "Точность RFR из 27 деревьев на тестe: 86.667\n",
      "Точность RFR из 28 деревьев на трейне: 100.000\n",
      "Точность RFR из 28 деревьев на тестe: 86.667\n",
      "Точность RFR из 29 деревьев на трейне: 100.000\n",
      "Точность RFR из 29 деревьев на тестe: 86.667\n",
      "Точность RFR из 30 деревьев на трейне: 100.000\n",
      "Точность RFR из 30 деревьев на тестe: 80.000\n",
      "Точность RFR из 31 деревьев на трейне: 100.000\n",
      "Точность RFR из 31 деревьев на тестe: 86.667\n",
      "Точность RFR из 32 деревьев на трейне: 100.000\n",
      "Точность RFR из 32 деревьев на тестe: 86.667\n",
      "Точность RFR из 33 деревьев на трейне: 100.000\n",
      "Точность RFR из 33 деревьев на тестe: 86.667\n",
      "Точность RFR из 34 деревьев на трейне: 100.000\n",
      "Точность RFR из 34 деревьев на тестe: 86.667\n",
      "Точность RFR из 35 деревьев на трейне: 100.000\n",
      "Точность RFR из 35 деревьев на тестe: 86.667\n",
      "Точность RFR из 36 деревьев на трейне: 100.000\n",
      "Точность RFR из 36 деревьев на тестe: 86.667\n",
      "Точность RFR из 37 деревьев на трейне: 100.000\n",
      "Точность RFR из 37 деревьев на тестe: 86.667\n",
      "Точность RFR из 38 деревьев на трейне: 100.000\n",
      "Точность RFR из 38 деревьев на тестe: 83.333\n",
      "Точность RFR из 39 деревьев на трейне: 100.000\n",
      "Точность RFR из 39 деревьев на тестe: 86.667\n",
      "Точность RFR из 40 деревьев на трейне: 100.000\n",
      "Точность RFR из 40 деревьев на тестe: 86.667\n"
     ]
    },
    {
     "data": {
      "text/plain": [
       "[<matplotlib.lines.Line2D at 0x7fa5d6c21160>]"
      ]
     },
     "execution_count": 50,
     "metadata": {},
     "output_type": "execute_result"
    },
    {
     "data": {
      "image/png": "[encoded data removed]",
      "text/plain": [
       "<Figure size 432x288 with 1 Axes>"
      ]
     },
     "metadata": {
      "needs_background": "light"
     },
     "output_type": "display_data"
    }
   ],
   "source": [
    "trx = [i for i in range(1, 41)]\n",
    "tra = []\n",
    "tea = []\n",
    "for n_trees in trx:\n",
    "    my_forest = random_forest(train_data, train_labels, n_trees)\n",
    "    train_answers = tree_vote(my_forest, train_data)\n",
    "    test_answers = tree_vote(my_forest, test_data)\n",
    "    train_accuracy = accuracy_metric(train_labels, train_answers)\n",
    "    print(f'Точность RFR из {n_trees} деревьев на трейне: {train_accuracy:.3f}')\n",
    "    test_accuracy = accuracy_metric(test_labels, test_answers)\n",
    "    print(f'Точность RFR из {n_trees} деревьев на тестe: {test_accuracy:.3f}')\n",
    "    tra.append(train_accuracy)\n",
    "    tea.append(test_accuracy)\n",
    "    \n",
    "plt.plot(trx, tra)\n",
    "plt.plot(trx, tea)"
   ]
  },
  {
   "cell_type": "markdown",
   "id": "34c9b36d",
   "metadata": {},
   "source": [
    "№2 Сделать выводы о получаемой сложности гиперплоскости и недообучении или переобучении случайного леса в зависимости от количества деревьев в нем."
   ]
  },
  {
   "cell_type": "markdown",
   "id": "a681ad1a",
   "metadata": {},
   "source": [
    "Вывод: Если деревьев слишком много, то расчеты слишком сильно подгоняется к данным, что приводит к переобучению модели. И наоборот - если деревьев недостаточно - граница будет грубой, в результате получим недообученную модель. Как итог: разумный баланс между кол-вом деревьев для сохранения обобщенности и точности модели."
   ]
  },
  {
   "cell_type": "code",
   "execution_count": null,
   "id": "47057545",
   "metadata": {},
   "outputs": [],
   "source": []
  }
 ],
 "metadata": {
  "kernelspec": {
   "display_name": "Python 3 (ipykernel)",
   "language": "python",
   "name": "python3"
  },
  "language_info": {
   "codemirror_mode": {
    "name": "ipython",
    "version": 3
   },
   "file_extension": ".py",
   "mimetype": "text/x-python",
   "name": "python",
   "nbconvert_exporter": "python",
   "pygments_lexer": "ipython3",
   "version": "3.9.12"
  }
 },
 "nbformat": 4,
 "nbformat_minor": 5
}
