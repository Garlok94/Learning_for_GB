{
 "cells": [
  {
   "cell_type": "code",
   "execution_count": null,
   "id": "c9a62688",
   "metadata": {},
   "outputs": [],
   "source": [
    "import numpy as np\n",
    "import pandas as pd\n",
    "import random\n",
    "\n",
    "import matplotlib\n",
    "import matplotlib.pyplot as plt\n",
    "import seaborn as sns\n",
    "%matplotlib inline\n",
    "\n",
    "# 2. Разделение датасета и подбор гиперпараметров\n",
    "from sklearn.model_selection import train_test_split, cross_val_score, KFold, GridSearchCV\n",
    "\n",
    "# 3. Нормализация данных \n",
    "from sklearn.preprocessing import StandardScaler\n",
    "\n",
    "# 4. Модели \n",
    "from sklearn.linear_model import LinearRegression\n",
    "from sklearn.ensemble import RandomForestRegressor\n",
    "from catboost import CatBoostRegressor\n",
    "from lightgbm import LGBMRegressor\n",
    "\n",
    "# 5. Метрики качества\n",
    "from sklearn.metrics import r2_score as r2\n",
    "\n",
    "\n",
    "import datetime\n",
    "import gc # сборщик мусора"
   ]
  },
  {
   "cell_type": "code",
   "execution_count": null,
   "id": "89eda00d",
   "metadata": {},
   "outputs": [],
   "source": [
    "import warnings\n",
    "warnings.filterwarnings('ignore')\n",
    "matplotlib.rcParams.update({'font.size': 14})"
   ]
  },
  {
   "cell_type": "code",
   "execution_count": null,
   "id": "0e137b87",
   "metadata": {},
   "outputs": [],
   "source": [
    "def evaluate_preds(train_true_values, train_pred_values, test_true_values, test_pred_values):\n",
    "    print(\"Train R2:\\t\" + str(round(r2(train_true_values, train_pred_values), 3)))\n",
    "    print(\"Test R2:\\t\" + str(round(r2(test_true_values, test_pred_values), 3)))\n",
    "    \n",
    "    plt.figure(figsize=(18,10))\n",
    "    \n",
    "    plt.subplot(121)\n",
    "    sns.scatterplot(x=train_pred_values, y=train_true_values)\n",
    "    plt.xlabel('Predicted values')\n",
    "    plt.ylabel('True values')\n",
    "    plt.title('Train sample prediction')\n",
    "    \n",
    "    plt.subplot(122)\n",
    "    sns.scatterplot(x=test_pred_values, y=test_true_values)\n",
    "    plt.xlabel('Predicted values')\n",
    "    plt.ylabel('True values')\n",
    "    plt.title('Test sample prediction')\n",
    "\n",
    "    plt.show()"
   ]
  },
  {
   "cell_type": "markdown",
   "id": "27379ff3",
   "metadata": {},
   "source": [
    "Пути к директориям и файлам"
   ]
  },
  {
   "cell_type": "code",
   "execution_count": null,
   "id": "99e1edc4",
   "metadata": {},
   "outputs": [],
   "source": [
    "TRAIN_DATASET_PATH = '../input/real-estate-price-prediction-moscow/train.csv'\n",
    "TEST_DATASET_PATH = '../input/real-estate-price-prediction-moscow/test.csv'"
   ]
  },
  {
   "cell_type": "markdown",
   "id": "864b901c",
   "metadata": {},
   "source": [
    "Описание датасета\n",
    "\n",
    "##### Id - идентификационный номер квартиры\n",
    "##### DistrictId - идентификационный номер района\n",
    "##### Rooms - количество комнат\n",
    "##### Square - площадь\n",
    "##### LifeSquare - жилая площадь\n",
    "##### KitchenSquare - площадь кухни\n",
    "##### Floor - этаж\n",
    "##### HouseFloor - количество этажей в доме\n",
    "##### HouseYear - год постройки дома\n",
    "##### Ecology_1, Ecology_2, Ecology_3 - экологические показатели местности\n",
    "##### Social_1, Social_2, Social_3 - социальные показатели местности\n",
    "##### Healthcare_1, Helthcare_2 - показатели местности, связанные с охраной здоровья\n",
    "##### Shops_1, Shops_2 - показатели, связанные с наличием магазинов, торговых центров\n",
    "##### Price - цена квартиры"
   ]
  },
  {
   "cell_type": "code",
   "execution_count": null,
   "id": "b8c366b3",
   "metadata": {},
   "outputs": [],
   "source": [
    "# Подгружаем train data в df_train и test data в X_test\n",
    "df_train = pd.read_csv(TRAIN_DATASET_PATH)\n",
    "X_test = pd.read_csv(TEST_DATASET_PATH)\n",
    "\n",
    "\n",
    "\n",
    "# Для df_train и X_test в качества индекса устанавливаем колонку 'Id'\n",
    "df_train.set_index('Id', inplace=True)\n",
    "X_test.set_index('Id', inplace=True)\n",
    "\n",
    "# Смотрим на количество строк в данных\n",
    "print('Строк в трейне:', df_train.shape[0])\n",
    "print('Строк в тесте', X_test.shape[0])\n",
    "\n",
    "# Удаляем df_train чтобы не занимал место"
   ]
  },
  {
   "cell_type": "code",
   "execution_count": null,
   "id": "a13950b6",
   "metadata": {},
   "outputs": [],
   "source": [
    "df_train.head()"
   ]
  },
  {
   "cell_type": "code",
   "execution_count": null,
   "id": "b740fd7c",
   "metadata": {},
   "outputs": [],
   "source": [
    "df_train.dtypes"
   ]
  },
  {
   "cell_type": "code",
   "execution_count": null,
   "id": "c13b14db",
   "metadata": {},
   "outputs": [],
   "source": [
    "df_train['DistrictId'] =df_train['DistrictId'].astype(str)\n",
    "X_test['DistrictId'] = X_test['DistrictId'].astype(str)"
   ]
  },
  {
   "cell_type": "markdown",
   "id": "645f9b60",
   "metadata": {},
   "source": [
    "### EDA"
   ]
  },
  {
   "cell_type": "code",
   "execution_count": null,
   "id": "116f7769",
   "metadata": {},
   "outputs": [],
   "source": [
    "plt.figure(figsize = (15,10))\n",
    "\n",
    "sns.set(font_scale=1.4)\n",
    "\n",
    "corr_matrix = df_train.corr()\n",
    "corr_matrix = np.round(corr_matrix, 2)\n",
    "corr_matrix[np.abs(corr_matrix) < 0.3] = 0\n",
    "\n",
    "sns.heatmap(corr_matrix, annot=True, linewidths=.5, cmap='coolwarm')\n",
    "\n",
    "plt.title('Correlation matrix')\n",
    "plt.show()"
   ]
  },
  {
   "cell_type": "markdown",
   "id": "ebaf09b2",
   "metadata": {},
   "source": [
    "Гистограммы по колличественным признакам"
   ]
  },
  {
   "cell_type": "code",
   "execution_count": null,
   "id": "84c9cf61",
   "metadata": {},
   "outputs": [],
   "source": [
    "# Делю имеющиеся признаки на категориальные и колличественные \n",
    "num_features = list(df_train.select_dtypes(exclude='object').columns)\n",
    "cat_features = list(df_train.select_dtypes(include='object').columns)\n",
    "\n",
    "# Создаю гистограммы по кол. признакам \n",
    "df_train[num_features].hist( figsize=(16,16), bins=10)\n",
    "\n",
    "plt.show()"
   ]
  },
  {
   "cell_type": "markdown",
   "id": "a52ee5d7",
   "metadata": {},
   "source": [
    "Пропуски"
   ]
  },
  {
   "cell_type": "code",
   "execution_count": null,
   "id": "9bc2386f",
   "metadata": {},
   "outputs": [],
   "source": [
    "# Смотрим где есть пропуски и создаем список таких колонок\n",
    "nan_features = df_train.columns[df_train.isna().any()].tolist()\n",
    "  \n",
    "# Cмотрим сколько процентов значений пропущено во всех столбцах\n",
    "    \n",
    "for el in nan_features:\n",
    "    print('В столбце', el, 'пропущенно', df_train[el].isnull().sum() * 100 / len(df_train), '% значений')"
   ]
  },
  {
   "cell_type": "markdown",
   "id": "4040c6f7",
   "metadata": {},
   "source": [
    "Выбросы"
   ]
  },
  {
   "cell_type": "code",
   "execution_count": null,
   "id": "2fd014fc",
   "metadata": {},
   "outputs": [],
   "source": [
    "# Rooms\n",
    "\n",
    "df_train['Rooms'].value_counts().sort_index()\n",
    "\n",
    "# Думаю, если > 6 комнат, то сделаю значение = 5 комнатам.\n",
    "# А если 0 то пусть будет 1"
   ]
  },
  {
   "cell_type": "code",
   "execution_count": null,
   "id": "669f5fbe",
   "metadata": {},
   "outputs": [],
   "source": [
    "# Square\n",
    "\n",
    "plt.scatter(df_train['Square'], df_train['Price'])\n",
    "\n",
    "plt.show()\n",
    "\n",
    "(df_train['Square'] > 200).value_counts()\n",
    "\n",
    "# Возможно, стоит выкинуть значения больше 200 "
   ]
  },
  {
   "cell_type": "code",
   "execution_count": null,
   "id": "2c5030d5",
   "metadata": {},
   "outputs": [],
   "source": [
    "lf_df = df_train[df_train['LifeSquare'] < 50]\n",
    "lf_df.info()"
   ]
  },
  {
   "cell_type": "code",
   "execution_count": null,
   "id": "81d5d7ac",
   "metadata": {},
   "outputs": [],
   "source": [
    "plt.scatter(df_train['LifeSquare'], df_train['Price'])\n",
    "\n",
    "plt.show()\n",
    "\n",
    "(df_train['LifeSquare'] > 200).value_counts()"
   ]
  },
  {
   "cell_type": "code",
   "execution_count": null,
   "id": "f70d7d88",
   "metadata": {},
   "outputs": [],
   "source": [
    "# KitchenSquare\n",
    "\n",
    "df_train['KitchenSquare'].value_counts().sort_index()"
   ]
  },
  {
   "cell_type": "code",
   "execution_count": null,
   "id": "c8161964",
   "metadata": {},
   "outputs": [],
   "source": [
    "#HouseFloor\n",
    "\n",
    "df_train['HouseFloor'].value_counts().sort_index()"
   ]
  },
  {
   "cell_type": "code",
   "execution_count": null,
   "id": "6d739e9b",
   "metadata": {},
   "outputs": [],
   "source": [
    "# Floor\n",
    "\n",
    "df_train['Floor'].value_counts().sort_index()"
   ]
  },
  {
   "cell_type": "code",
   "execution_count": null,
   "id": "105cc92b",
   "metadata": {},
   "outputs": [],
   "source": [
    "# В данных много ошибок, может ли быть такое, что квартира расположена на этаже, который выше чем заявлено в здании?\n",
    "(df_train['Floor'] > df_train['HouseFloor']).sum()"
   ]
  },
  {
   "cell_type": "code",
   "execution_count": null,
   "id": "42848a82",
   "metadata": {},
   "outputs": [],
   "source": [
    "# HouseYear\n",
    "\n",
    "df_train[df_train['HouseYear'] > 2021].head()"
   ]
  },
  {
   "cell_type": "markdown",
   "id": "07ea6a7f",
   "metadata": {},
   "source": [
    "Категориальные переменные"
   ]
  },
  {
   "cell_type": "code",
   "execution_count": null,
   "id": "d0f0715f",
   "metadata": {},
   "outputs": [],
   "source": [
    "#Смотрим на то, какие есть категориальные переменные\n",
    "df_train.select_dtypes(include='object').columns.tolist()"
   ]
  },
  {
   "cell_type": "code",
   "execution_count": null,
   "id": "3fb7d2d3",
   "metadata": {},
   "outputs": [],
   "source": [
    "# DistrictId\n",
    "df_train['DistrictId'].value_counts()"
   ]
  },
  {
   "cell_type": "code",
   "execution_count": null,
   "id": "bad9c748",
   "metadata": {},
   "outputs": [],
   "source": [
    "# Ecology_2\n",
    "\n",
    "df_train['Ecology_2'].value_counts()"
   ]
  },
  {
   "cell_type": "code",
   "execution_count": null,
   "id": "0abcd418",
   "metadata": {},
   "outputs": [],
   "source": [
    "# Ecology_3\n",
    "\n",
    "df_train['Ecology_3'].value_counts()"
   ]
  },
  {
   "cell_type": "code",
   "execution_count": null,
   "id": "fe0fb1b4",
   "metadata": {},
   "outputs": [],
   "source": [
    "# Shops_2\n",
    "\n",
    "df_train['Shops_2'].value_counts()"
   ]
  },
  {
   "cell_type": "markdown",
   "id": "7ce8ec1a",
   "metadata": {},
   "source": [
    "Очистка данных(выбросы и пропуски)"
   ]
  },
  {
   "cell_type": "code",
   "execution_count": null,
   "id": "8f618490",
   "metadata": {},
   "outputs": [],
   "source": [
    "class DataPreprocessing:\n",
    "    \"\"\"Подготовка исходных данных\"\"\"\n",
    "\n",
    "    def __init__(self):\n",
    "        \"\"\"Параметры класса\"\"\"\n",
    "        self.medians = None\n",
    "        \n",
    "    def fit(self, X):\n",
    "        \"\"\"Сохранение статистик\"\"\"       \n",
    "        # Расчет медиан\n",
    "        self.medians = X.median()\n",
    "    \n",
    "    def transform(self, X):\n",
    "        \"\"\"Трансформация данных\"\"\"\n",
    "\n",
    "        # Rooms\n",
    "        X['Rooms_outlier'] = 0\n",
    "        X.loc[(X['Rooms'] == 0) | (X['Rooms'] >= 6), 'Rooms_outlier'] = 1\n",
    "        \n",
    "        X.loc[X['Rooms'] == 0, 'Rooms'] = 1\n",
    "        X.loc[X['Rooms'] >= 6, 'Rooms'] = self.medians['Rooms'] # !!! медиана посчитана на трейне !!!\n",
    "        \n",
    "        \n",
    "        # Square !\n",
    "#         X.loc[(X['Square'] > 110) & (X['Square'] < 1000), 'Square'] =  X.loc[X['Square'] > 300, 'Square'] * 0.2\n",
    "#         X.loc[(X['Square'] > 110) & (X['Square'] < 1000), 'Square'] =  X.loc[X['Square'] > 300, 'Square'] * 0.2\n",
    "        X.loc[(X['Square'] < 20), 'Square'] =  X.loc[(X['Square'] < 20), 'Square'] * 2 + 20\n",
    "        X.loc[(X['Square'] > 250), 'Square'] =  self.medians['Square']\n",
    "        \n",
    "        # KitchenSquare\n",
    "        X.loc[X['KitchenSquare'] < 3, 'KitchenSquare'] = 3\n",
    "        X.loc[X['KitchenSquare'] > 1000, 'KitchenSquare'] = X.loc[X['KitchenSquare'] > 1000, 'KitchenSquare'] / 10  # можно median\n",
    "        X.loc[X['KitchenSquare'] >= 21, 'KitchenSquare']  = 20 # !!!\n",
    "\n",
    "\n",
    "        \n",
    "        # HouseFloor, Floor\n",
    "        X['HouseFloor_outlier'] = 0\n",
    "        X.loc[X['HouseFloor'] == 0, 'HouseFloor_outlier'] = 1\n",
    "        X.loc[X['Floor'] > X['HouseFloor'], 'HouseFloor_outlier'] = 1\n",
    "        \n",
    "        X.loc[X['HouseFloor'] == 0, 'HouseFloor'] = self.medians['HouseFloor']\n",
    "        X.loc[X['Floor'] > X['HouseFloor'], 'Floor'] = X.loc[X['Floor'] > X['HouseFloor'], 'HouseFloor']\n",
    "        \n",
    "        \n",
    "        # HouseYear\n",
    "        current_year = now = datetime.datetime.now().year\n",
    "        \n",
    "        X['HouseYear_outlier'] = 0\n",
    "        X.loc[X['HouseYear'] > current_year, 'HouseYear_outlier'] = 1\n",
    "        \n",
    "        X.loc[X['HouseYear'] > current_year, 'HouseYear'] = current_year\n",
    "        \n",
    "        \n",
    "        # Healthcare_1\n",
    "        if 'Healthcare_1' in X.columns:\n",
    "            X.drop('Healthcare_1', axis=1, inplace=True)\n",
    "          \n",
    "        \n",
    "        # LifeSquare\n",
    "        X['LifeSquare_nan'] = X['LifeSquare'].isna() * 1\n",
    "        \n",
    "        condition = (X['LifeSquare'].isna()) &\\\n",
    "                      (~X['Square'].isna()) & \\\n",
    "                      (~X['KitchenSquare'].isna())\n",
    "        \n",
    "        X.loc[condition, 'LifeSquare'] = X.loc[condition, 'Square'] - X.loc[condition, 'KitchenSquare'] - 3\n",
    "        # X.loc[(X['LifeSquare'] > 200), 'LifeSquare'] =  self.medians['LifeSquare']\n",
    "        # X.loc[(X['LifeSquare'] < 10), 'LifeSquare'] =  self.medians['LifeSquare']\n",
    "        return X"
   ]
  },
  {
   "cell_type": "markdown",
   "id": "ab8b6f24",
   "metadata": {},
   "source": [
    "Feature engineering"
   ]
  },
  {
   "cell_type": "code",
   "execution_count": null,
   "id": "da4c48e8",
   "metadata": {},
   "outputs": [],
   "source": [
    "class FeatureGenerator():\n",
    "    \"\"\"Генерация новых фич\"\"\"\n",
    "    \n",
    "    def __init__(self):\n",
    "        self.DistrictId_counts = None\n",
    "        self.binary_to_numbers = None\n",
    "        self.med_price_by_district = None\n",
    "        self.med_price_by_floor_year = None\n",
    "        \n",
    "    def fit(self, X, y=None):\n",
    "        \n",
    "        X = X.copy()\n",
    "        \n",
    "        # DistrictID\n",
    "        district = X['DistrictId'].value_counts()\n",
    "        district = district[district > 50]  ## Если вы этого не сделаете, то на Leaderboard-е улетите в самый низ (>100 места, R2 ~ 0.65),\n",
    "                                            ## Хотя на локальной валидации скор вырастет\n",
    "        \n",
    "        self.DistrictId_counts = dict(district)\n",
    "        \n",
    "        # Binary features\n",
    "        self.binary_to_numbers = {'A': 0, 'B': 1}\n",
    "        \n",
    "        # Target encoding\n",
    "        ## District\n",
    "        df = X.copy()\n",
    "        \n",
    "        if y is not None:\n",
    "            df['Price'] = y.values\n",
    "            \n",
    "            df['DistrictId_popular'] = df['DistrictId'].copy()\n",
    "            df.loc[~df['DistrictId_popular'].isin(district.keys().tolist())] = np.nan\n",
    "            \n",
    "            self.med_price_by_district = df.groupby(['DistrictId_popular', 'Rooms'], as_index=False).agg({'Price':'median'})\\\n",
    "                                            .rename(columns={'Price':'MedPriceByDistrict',\n",
    "                                                           'DistrictId_popular': 'DistrictId'})\n",
    "            med_price_by_district = train_df.groupby(['DistrictId', 'Rooms'], as_index=False).agg({'Price':'median'})\\\n",
    "                            .rename(columns={'Price':'MedPriceByDistrict'})\n",
    "            \n",
    "            self.med_price_by_district_median = self.med_price_by_district['MedPriceByDistrict'].median()\n",
    "            \n",
    "        ## floor, year\n",
    "        if y is not None:\n",
    "            df['Price'] = y.values\n",
    "            df = self.floor_to_cat(df)\n",
    "            df = self.year_to_cat(df)\n",
    "            self.med_price_by_floor_year = df.groupby(['year_cat', 'floor_cat'], as_index=False).agg({'Price':'median'}).\\\n",
    "                                            rename(columns={'Price':'MedPriceByFloorYear'})\n",
    "            self.med_price_by_floor_year_median = self.med_price_by_floor_year['MedPriceByFloorYear'].median()\n",
    "\n",
    "        \n",
    "    def transform(self, X):\n",
    "        \n",
    "        # DistrictId\n",
    "        X['DistrictId_count'] = X['DistrictId'].map(self.DistrictId_counts)  # self.DistrictId_counts = {'id': value}\n",
    "        \n",
    "        X['new_district'] = 0\n",
    "        X.loc[X['DistrictId_count'].isna(), 'new_district'] = 1\n",
    "        \n",
    "        X['DistrictId_count'].fillna(5, inplace=True)\n",
    "        \n",
    "        # Binary features\n",
    "        X['Ecology_2'] = X['Ecology_2'].map(self.binary_to_numbers)  # self.binary_to_numbers = {'A': 0, 'B': 1}\n",
    "        X['Ecology_3'] = X['Ecology_3'].map(self.binary_to_numbers)\n",
    "        X['Shops_2'] = X['Shops_2'].map(self.binary_to_numbers)\n",
    "        \n",
    "        # More categorical features\n",
    "        X = self.floor_to_cat(X)  # + столбец floor_cat\n",
    "        X = self.year_to_cat(X)   # + столбец year_cat\n",
    "        \n",
    "        # Target encoding\n",
    "        if self.med_price_by_district is not None:\n",
    "            X = X.merge(self.med_price_by_district, on=['DistrictId', 'Rooms'], how='left')\n",
    "            X['MedPriceByDistrict'].fillna(self.med_price_by_district_median, inplace=True)\n",
    "            \n",
    "        if self.med_price_by_floor_year is not None:\n",
    "            X = X.merge(self.med_price_by_floor_year, on=['year_cat', 'floor_cat'], how='left')\n",
    "            X['MedPriceByFloorYear'].fillna(self.med_price_by_floor_year_median, inplace=True)\n",
    "        \n",
    "        return X\n",
    "    \n",
    "    @staticmethod\n",
    "    def floor_to_cat(X):\n",
    "        \n",
    "        X['floor_cat'] = np.nan\n",
    "        \n",
    "        X.loc[X['Floor'] < 3, 'floor_cat'] = 1  \n",
    "        X.loc[(X['Floor'] >= 3) & (X['Floor'] <= 5), 'floor_cat'] = 2\n",
    "        X.loc[(X['Floor'] > 5) & (X['Floor'] <= 9), 'floor_cat'] = 3\n",
    "        X.loc[(X['Floor'] > 9) & (X['Floor'] <= 15), 'floor_cat'] = 4\n",
    "        X.loc[X['Floor'] > 15, 'floor_cat'] = 5\n",
    "            \n",
    "        return X\n",
    "     \n",
    "    @staticmethod\n",
    "    def year_to_cat(X):\n",
    "        \n",
    "        X['year_cat'] = np.nan\n",
    "        \n",
    "        X.loc[X['HouseYear'] < 1941, 'year_cat'] = 1\n",
    "        X.loc[(X['HouseYear'] >= 1941) & (X['HouseYear'] <= 1945), 'year_cat'] = 2\n",
    "        X.loc[(X['HouseYear'] > 1945) & (X['HouseYear'] <= 1980), 'year_cat'] = 3\n",
    "        X.loc[(X['HouseYear'] > 1980) & (X['HouseYear'] <= 2000), 'year_cat'] = 4\n",
    "        X.loc[(X['HouseYear'] > 2000) & (X['HouseYear'] <= 2010), 'year_cat'] = 5\n",
    "        X.loc[(X['HouseYear'] > 2010), 'year_cat'] = 6\n",
    "            \n",
    "        return X"
   ]
  },
  {
   "cell_type": "markdown",
   "id": "b8d42b6a",
   "metadata": {},
   "source": [
    "Отбор признаков"
   ]
  },
  {
   "cell_type": "code",
   "execution_count": null,
   "id": "d1b7b44a",
   "metadata": {},
   "outputs": [],
   "source": [
    "feature_names = ['Rooms', 'Square', 'LifeSquare', 'KitchenSquare', 'Floor', 'HouseFloor', 'HouseYear',\n",
    "                 'Ecology_1', 'Ecology_2', 'Ecology_3', 'Social_1', 'Social_2', 'Social_3',\n",
    "                 'Helthcare_2', 'Shops_1', 'Shops_2']\n",
    "\n",
    "new_feature_names = ['Rooms_outlier', 'HouseFloor_outlier', 'HouseYear_outlier', 'LifeSquare_nan', 'DistrictId_count',\n",
    "                     'new_district', 'floor_cat', 'year_cat',  'MedPriceByDistrict', 'MedPriceByFloorYear']\n",
    "\n",
    "target_name = 'Price'"
   ]
  },
  {
   "cell_type": "markdown",
   "id": "3a0ab842",
   "metadata": {},
   "source": [
    "Разбиение на train и test"
   ]
  },
  {
   "cell_type": "code",
   "execution_count": null,
   "id": "3d74d392",
   "metadata": {},
   "outputs": [],
   "source": [
    "train_df = pd.read_csv(TRAIN_DATASET_PATH)\n",
    "test_df = pd.read_csv(TEST_DATASET_PATH)\n",
    "\n",
    "X = train_df.drop(columns=target_name)\n",
    "y = train_df[target_name]"
   ]
  },
  {
   "cell_type": "code",
   "execution_count": null,
   "id": "2e8c6991",
   "metadata": {},
   "outputs": [],
   "source": [
    "X_train, X_valid, y_train, y_valid = train_test_split(X, y, test_size=0.33, shuffle=True)"
   ]
  },
  {
   "cell_type": "code",
   "execution_count": null,
   "id": "babb702c",
   "metadata": {},
   "outputs": [],
   "source": [
    "preprocessor = DataPreprocessing()\n",
    "preprocessor.fit(X_train)\n",
    "\n",
    "X_train = preprocessor.transform(X_train)\n",
    "X_valid = preprocessor.transform(X_valid)\n",
    "test_df = preprocessor.transform(test_df)\n",
    "\n",
    "X_train.shape, X_valid.shape, test_df.shape"
   ]
  },
  {
   "cell_type": "code",
   "execution_count": null,
   "id": "ca1e1ae0",
   "metadata": {},
   "outputs": [],
   "source": [
    "features_gen = FeatureGenerator()\n",
    "features_gen.fit(X_train, y_train)\n",
    "\n",
    "X_train = features_gen.transform(X_train)\n",
    "X_valid = features_gen.transform(X_valid)\n",
    "test_df = features_gen.transform(test_df)\n",
    "\n",
    "X_train.shape, X_valid.shape, test_df.shape"
   ]
  },
  {
   "cell_type": "code",
   "execution_count": null,
   "id": "9736d58d",
   "metadata": {},
   "outputs": [],
   "source": [
    "X_train = X_train[feature_names + new_feature_names]\n",
    "X_valid = X_valid[feature_names + new_feature_names]\n",
    "test_df = test_df[feature_names + new_feature_names]"
   ]
  },
  {
   "cell_type": "code",
   "execution_count": null,
   "id": "2b852d21",
   "metadata": {},
   "outputs": [],
   "source": [
    "X_train.isna().sum().sum(), X_valid.isna().sum().sum(), test_df.isna().sum().sum()"
   ]
  },
  {
   "cell_type": "markdown",
   "id": "2507d5f6",
   "metadata": {},
   "source": [
    "##### Построение моделей"
   ]
  },
  {
   "cell_type": "markdown",
   "id": "d307c8a5",
   "metadata": {},
   "source": [
    "LGBMRegressor"
   ]
  },
  {
   "cell_type": "code",
   "execution_count": null,
   "id": "a53ff815",
   "metadata": {},
   "outputs": [],
   "source": [
    "lgbm = LGBMRegressor(max_depth=20,\n",
    "                             num_leaves=31,\n",
    "                             n_estimators=500,\n",
    "                             learning_rate=0.03)\n",
    "\n",
    "lgbm.fit(X_train, y_train)"
   ]
  },
  {
   "cell_type": "code",
   "execution_count": null,
   "id": "a9ca0f68",
   "metadata": {},
   "outputs": [],
   "source": [
    "y_train_preds = lgbm.predict(X_train)\n",
    "y_valid_preds = lgbm.predict(X_valid)\n",
    "\n",
    "evaluate_preds(y_train, y_train_preds, y_valid, y_valid_preds)"
   ]
  },
  {
   "cell_type": "code",
   "execution_count": null,
   "id": "29959128",
   "metadata": {},
   "outputs": [],
   "source": [
    "# cv_score\n",
    "cv_score = cross_val_score(lgbm, X_train, y_train, scoring='r2', cv=KFold(n_splits=3, shuffle=True, random_state=21))\n",
    "\n",
    "mean = cv_score.mean()\n",
    "std = cv_score.std()\n",
    "\n",
    "print('R2: {:.3f} +- {:.3f}'.format(mean, std))"
   ]
  },
  {
   "cell_type": "code",
   "execution_count": null,
   "id": "029577c7",
   "metadata": {},
   "outputs": [],
   "source": [
    "y_train_preds = lgbm.predict(X_train)\n",
    "y_valid_preds = lgbm.predict(X_valid)\n",
    "\n",
    "evaluate_preds(y_train, y_train_preds, y_valid, y_valid_preds)"
   ]
  },
  {
   "cell_type": "markdown",
   "id": "a9f93c13",
   "metadata": {},
   "source": [
    "Важность признаков"
   ]
  },
  {
   "cell_type": "code",
   "execution_count": null,
   "id": "0f16d98e",
   "metadata": {},
   "outputs": [],
   "source": [
    "feature_importances = pd.DataFrame(zip(X_train.columns, lgbm.feature_importances_), \n",
    "                                   columns=['feature_name', 'importance'])\n",
    "\n",
    "feature_importances.sort_values(by='importance', ascending=False)"
   ]
  },
  {
   "cell_type": "markdown",
   "id": "3247cf66",
   "metadata": {},
   "source": [
    "Прогнозирование на тестовом датасете"
   ]
  },
  {
   "cell_type": "code",
   "execution_count": null,
   "id": "7bb1dc97",
   "metadata": {},
   "outputs": [],
   "source": [
    "test_df.shape"
   ]
  },
  {
   "cell_type": "code",
   "execution_count": null,
   "id": "700f2306",
   "metadata": {},
   "outputs": [],
   "source": [
    "test_df.info()"
   ]
  },
  {
   "cell_type": "code",
   "execution_count": null,
   "id": "7a696f62",
   "metadata": {},
   "outputs": [],
   "source": [
    "submit = pd.read_csv('/kaggle/input/real-estate-price-prediction-moscow/sample_submission.csv')\n",
    "submit.head()"
   ]
  },
  {
   "cell_type": "code",
   "execution_count": null,
   "id": "0f1da225",
   "metadata": {},
   "outputs": [],
   "source": [
    "X.info()"
   ]
  },
  {
   "cell_type": "code",
   "execution_count": null,
   "id": "b54a2f1a",
   "metadata": {},
   "outputs": [],
   "source": [
    "test_df.info()"
   ]
  },
  {
   "cell_type": "code",
   "execution_count": null,
   "id": "d5592465",
   "metadata": {},
   "outputs": [],
   "source": [
    "predictions = lgbm.predict(test_df)\n",
    "predictions"
   ]
  },
  {
   "cell_type": "code",
   "execution_count": null,
   "id": "e0ea9c05",
   "metadata": {},
   "outputs": [],
   "source": [
    "submit['Price'] = predictions\n",
    "submit.head()"
   ]
  },
  {
   "cell_type": "code",
   "execution_count": null,
   "id": "1a76f0ea",
   "metadata": {},
   "outputs": [],
   "source": [
    "submit.info()"
   ]
  },
  {
   "cell_type": "code",
   "execution_count": null,
   "id": "32b09677",
   "metadata": {},
   "outputs": [],
   "source": [
    "submit.to_csv('submission.csv', index=False)"
   ]
  },
  {
   "cell_type": "code",
   "execution_count": null,
   "id": "63ea5e19",
   "metadata": {},
   "outputs": [],
   "source": [
    "submit.info()"
   ]
  }
 ],
 "metadata": {
  "kernelspec": {
   "display_name": "Python 3",
   "language": "python",
   "name": "python3"
  },
  "language_info": {
   "codemirror_mode": {
    "name": "ipython",
    "version": 3
   },
   "file_extension": ".py",
   "mimetype": "text/x-python",
   "name": "python",
   "nbconvert_exporter": "python",
   "pygments_lexer": "ipython3",
   "version": "3.8.8"
  }
 },
 "nbformat": 4,
 "nbformat_minor": 5
}
